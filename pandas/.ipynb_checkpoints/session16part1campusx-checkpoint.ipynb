{
 "cells": [
  {
   "cell_type": "code",
   "execution_count": 2,
   "id": "c27fa1f6",
   "metadata": {},
   "outputs": [],
   "source": [
    "import numpy as np\n",
    "import pandas as pd"
   ]
  },
  {
   "cell_type": "markdown",
   "id": "0d5bb150",
   "metadata": {},
   "source": [
    "Pandas Series\n",
    "A Pandas Series is like a column in a table. It is a 1-D array holding data of any type."
   ]
  },
  {
   "cell_type": "markdown",
   "id": "598dd8a3",
   "metadata": {},
   "source": [
    "Series from lists"
   ]
  },
  {
   "cell_type": "code",
   "execution_count": 4,
   "id": "d215aece",
   "metadata": {},
   "outputs": [
    {
     "data": {
      "text/plain": [
       "0     India\n",
       "1     Spain\n",
       "2    Brazil\n",
       "3     Japan\n",
       "dtype: object"
      ]
     },
     "execution_count": 4,
     "metadata": {},
     "output_type": "execute_result"
    }
   ],
   "source": [
    "# string\n",
    "country = ['India','Spain','Brazil','Japan']\n",
    "\n",
    "pd.Series(country)"
   ]
  },
  {
   "cell_type": "code",
   "execution_count": 22,
   "id": "289b1dd3",
   "metadata": {},
   "outputs": [
    {
     "data": {
      "text/plain": [
       "0     31\n",
       "1     24\n",
       "2     56\n",
       "3     78\n",
       "4    100\n",
       "dtype: int64"
      ]
     },
     "execution_count": 22,
     "metadata": {},
     "output_type": "execute_result"
    }
   ],
   "source": [
    "# integers\n",
    "\n",
    "runs = [31,24,56,78,100]\n",
    "\n",
    "runs_series = pd.Series(runs)\n",
    "runs_series"
   ]
  },
  {
   "cell_type": "code",
   "execution_count": 7,
   "id": "13a83e59",
   "metadata": {},
   "outputs": [
    {
     "data": {
      "text/plain": [
       "Maths        67\n",
       "english      57\n",
       "french       89\n",
       "business    100\n",
       "dtype: int64"
      ]
     },
     "execution_count": 7,
     "metadata": {},
     "output_type": "execute_result"
    }
   ],
   "source": [
    "# custom index\n",
    "\n",
    "marks = [67,57,89,100]\n",
    "subjects = ['Maths','english' , 'french','business']\n",
    "pd.Series(marks,index=subjects)"
   ]
  },
  {
   "cell_type": "code",
   "execution_count": 9,
   "id": "9b316ef5",
   "metadata": {},
   "outputs": [
    {
     "name": "stdout",
     "output_type": "stream",
     "text": [
      "Maths        67\n",
      "english      57\n",
      "french       89\n",
      "business    100\n",
      "Name: jay marks, dtype: int64\n"
     ]
    }
   ],
   "source": [
    "# setting a name\n",
    "\n",
    "jay_marks = pd.Series(marks,index=subjects,name='jay marks')\n",
    "print(jay_marks)"
   ]
  },
  {
   "cell_type": "markdown",
   "id": "c00c0695",
   "metadata": {},
   "source": [
    "Series from dict"
   ]
  },
  {
   "cell_type": "code",
   "execution_count": 11,
   "id": "4acad34f",
   "metadata": {},
   "outputs": [
    {
     "data": {
      "text/plain": [
       "Maths        67\n",
       "english      57\n",
       "french       89\n",
       "business    100\n",
       "Name: jay marks 2025, dtype: int64"
      ]
     },
     "execution_count": 11,
     "metadata": {},
     "output_type": "execute_result"
    }
   ],
   "source": [
    "marks = {\n",
    "    'Maths'    :    67,\n",
    "    'english'   :   57,\n",
    "    'french'    :   89,\n",
    "    'business'  :  100\n",
    "}\n",
    "marks_series = pd.Series(marks,name='jay marks 2025')\n",
    "marks_series"
   ]
  },
  {
   "cell_type": "markdown",
   "id": "74121e0e",
   "metadata": {},
   "source": [
    "Series Attributes"
   ]
  },
  {
   "cell_type": "code",
   "execution_count": 13,
   "id": "7e9d3291",
   "metadata": {},
   "outputs": [
    {
     "data": {
      "text/plain": [
       "4"
      ]
     },
     "execution_count": 13,
     "metadata": {},
     "output_type": "execute_result"
    }
   ],
   "source": [
    "# size\n",
    "marks_series.size"
   ]
  },
  {
   "cell_type": "code",
   "execution_count": 14,
   "id": "1409c8e4",
   "metadata": {},
   "outputs": [
    {
     "data": {
      "text/plain": [
       "dtype('int64')"
      ]
     },
     "execution_count": 14,
     "metadata": {},
     "output_type": "execute_result"
    }
   ],
   "source": [
    "# dtype\n",
    "\n",
    "marks_series.dtype"
   ]
  },
  {
   "cell_type": "code",
   "execution_count": 15,
   "id": "bdb5170a",
   "metadata": {},
   "outputs": [
    {
     "data": {
      "text/plain": [
       "'jay marks 2025'"
      ]
     },
     "execution_count": 15,
     "metadata": {},
     "output_type": "execute_result"
    }
   ],
   "source": [
    "# name\n",
    "marks_series.name"
   ]
  },
  {
   "cell_type": "code",
   "execution_count": 17,
   "id": "2ec227ef",
   "metadata": {},
   "outputs": [
    {
     "data": {
      "text/plain": [
       "False"
      ]
     },
     "execution_count": 17,
     "metadata": {},
     "output_type": "execute_result"
    }
   ],
   "source": [
    "# is_unique\n",
    "marks_series.is_unique\n",
    "\n",
    "pd.Series([1,1,2,3,7,5]).is_unique"
   ]
  },
  {
   "cell_type": "code",
   "execution_count": 24,
   "id": "c78c0e6d",
   "metadata": {},
   "outputs": [
    {
     "data": {
      "text/plain": [
       "pandas.core.indexes.range.RangeIndex"
      ]
     },
     "execution_count": 24,
     "metadata": {},
     "output_type": "execute_result"
    }
   ],
   "source": [
    "# index\n",
    "marks_series.index\n",
    "\n",
    "runs_series.index\n",
    "type(runs_series.index)"
   ]
  },
  {
   "cell_type": "code",
   "execution_count": 26,
   "id": "b9cdc6e6",
   "metadata": {},
   "outputs": [
    {
     "data": {
      "text/plain": [
       "numpy.ndarray"
      ]
     },
     "execution_count": 26,
     "metadata": {},
     "output_type": "execute_result"
    }
   ],
   "source": [
    "# values\n",
    "marks_series.values\n",
    "\n",
    "type(marks_series.values)"
   ]
  },
  {
   "cell_type": "markdown",
   "id": "239ff1ff",
   "metadata": {},
   "source": [
    "Series using read_csv"
   ]
  },
  {
   "cell_type": "code",
   "execution_count": 34,
   "id": "fc19a3c2",
   "metadata": {},
   "outputs": [
    {
     "data": {
      "text/plain": [
       "pandas.core.series.Series"
      ]
     },
     "execution_count": 34,
     "metadata": {},
     "output_type": "execute_result"
    }
   ],
   "source": [
    "# with one col\n",
    "\n",
    "type(pd.read_csv('subs.csv'))\n",
    "subs_df = pd.read_csv('subs.csv')       # squeeze for converting it into a pd series\n",
    "series_subs = subs_df.squeeze()\n",
    "type(series_subs)"
   ]
  },
  {
   "cell_type": "code",
   "execution_count": 42,
   "id": "b76384b6",
   "metadata": {},
   "outputs": [
    {
     "data": {
      "text/plain": [
       "match_no\n",
       "1       1\n",
       "2      23\n",
       "3      13\n",
       "4      12\n",
       "5       1\n",
       "       ..\n",
       "211     0\n",
       "212    20\n",
       "213    73\n",
       "214    25\n",
       "215     7\n",
       "Name: runs, Length: 215, dtype: int64"
      ]
     },
     "execution_count": 42,
     "metadata": {},
     "output_type": "execute_result"
    }
   ],
   "source": [
    "# with 2 cols\n",
    "\n",
    "kohli_runs = pd.read_csv('kohli_ipl.csv',index_col='match_no').squeeze()\n",
    "kohli_runs"
   ]
  },
  {
   "cell_type": "code",
   "execution_count": 37,
   "id": "aee4d3a0",
   "metadata": {},
   "outputs": [
    {
     "data": {
      "text/plain": [
       "movie\n",
       "Uri: The Surgical Strike                   Vicky Kaushal\n",
       "Battalion 609                                Vicky Ahuja\n",
       "The Accidental Prime Minister (film)         Anupam Kher\n",
       "Why Cheat India                            Emraan Hashmi\n",
       "Evening Shadows                         Mona Ambegaonkar\n",
       "                                              ...       \n",
       "Hum Tumhare Hain Sanam                    Shah Rukh Khan\n",
       "Aankhen (2002 film)                     Amitabh Bachchan\n",
       "Saathiya (film)                             Vivek Oberoi\n",
       "Company (film)                                Ajay Devgn\n",
       "Awara Paagal Deewana                        Akshay Kumar\n",
       "Name: lead, Length: 1500, dtype: object"
      ]
     },
     "execution_count": 37,
     "metadata": {},
     "output_type": "execute_result"
    }
   ],
   "source": [
    "# bollywood movies and actors\n",
    "\n",
    "movies = pd.read_csv('bollywood.csv',index_col='movie').squeeze()\n",
    "movies"
   ]
  },
  {
   "cell_type": "markdown",
   "id": "f9e6d131",
   "metadata": {},
   "source": [
    "Series Methods"
   ]
  },
  {
   "cell_type": "code",
   "execution_count": 38,
   "id": "91eeaaf5",
   "metadata": {},
   "outputs": [
    {
     "data": {
      "text/plain": [
       "0    48\n",
       "1    57\n",
       "2    40\n",
       "3    43\n",
       "4    44\n",
       "Name: Subscribers gained, dtype: int64"
      ]
     },
     "execution_count": 38,
     "metadata": {},
     "output_type": "execute_result"
    }
   ],
   "source": [
    "# head and tail\n",
    "\n",
    "series_subs.head()"
   ]
  },
  {
   "cell_type": "code",
   "execution_count": 43,
   "id": "cc9b29ef",
   "metadata": {},
   "outputs": [
    {
     "data": {
      "text/plain": [
       "match_no\n",
       "1      1\n",
       "2     23\n",
       "3     13\n",
       "4     12\n",
       "5      1\n",
       "6      9\n",
       "7     34\n",
       "8      0\n",
       "9     21\n",
       "10     3\n",
       "Name: runs, dtype: int64"
      ]
     },
     "execution_count": 43,
     "metadata": {},
     "output_type": "execute_result"
    }
   ],
   "source": [
    "kohli_runs.head(10)"
   ]
  },
  {
   "cell_type": "code",
   "execution_count": 44,
   "id": "c833a112",
   "metadata": {},
   "outputs": [
    {
     "data": {
      "text/plain": [
       "360    231\n",
       "361    226\n",
       "362    155\n",
       "363    144\n",
       "364    172\n",
       "Name: Subscribers gained, dtype: int64"
      ]
     },
     "execution_count": 44,
     "metadata": {},
     "output_type": "execute_result"
    }
   ],
   "source": [
    "series_subs.tail()"
   ]
  },
  {
   "cell_type": "code",
   "execution_count": 47,
   "id": "67670fee",
   "metadata": {},
   "outputs": [
    {
     "data": {
      "text/plain": [
       "movie\n",
       "Neerja             Sonam Kapoor\n",
       "Mad About Dance     Saahil Prem\n",
       "Guddu Ki Gun        Kunal Khemu\n",
       "Name: lead, dtype: object"
      ]
     },
     "execution_count": 47,
     "metadata": {},
     "output_type": "execute_result"
    }
   ],
   "source": [
    "# sample\n",
    "movies.sample(3)"
   ]
  },
  {
   "cell_type": "code",
   "execution_count": 48,
   "id": "19853a62",
   "metadata": {},
   "outputs": [
    {
     "data": {
      "text/plain": [
       "movie\n",
       "Uri: The Surgical Strike                   Vicky Kaushal\n",
       "Battalion 609                                Vicky Ahuja\n",
       "The Accidental Prime Minister (film)         Anupam Kher\n",
       "Why Cheat India                            Emraan Hashmi\n",
       "Evening Shadows                         Mona Ambegaonkar\n",
       "                                              ...       \n",
       "Hum Tumhare Hain Sanam                    Shah Rukh Khan\n",
       "Aankhen (2002 film)                     Amitabh Bachchan\n",
       "Saathiya (film)                             Vivek Oberoi\n",
       "Company (film)                                Ajay Devgn\n",
       "Awara Paagal Deewana                        Akshay Kumar\n",
       "Name: lead, Length: 1500, dtype: object"
      ]
     },
     "execution_count": 48,
     "metadata": {},
     "output_type": "execute_result"
    }
   ],
   "source": [
    "# value_counts\n",
    "\n",
    "movies"
   ]
  },
  {
   "cell_type": "code",
   "execution_count": 49,
   "id": "cad5d9c5",
   "metadata": {},
   "outputs": [
    {
     "data": {
      "text/plain": [
       "lead\n",
       "Akshay Kumar        48\n",
       "Amitabh Bachchan    45\n",
       "Ajay Devgn          38\n",
       "Salman Khan         31\n",
       "Sanjay Dutt         26\n",
       "                    ..\n",
       "Diganth              1\n",
       "Parveen Kaur         1\n",
       "Seema Azmi           1\n",
       "Akanksha Puri        1\n",
       "Edwin Fernandes      1\n",
       "Name: count, Length: 566, dtype: int64"
      ]
     },
     "execution_count": 49,
     "metadata": {},
     "output_type": "execute_result"
    }
   ],
   "source": [
    "movies.value_counts()"
   ]
  },
  {
   "cell_type": "code",
   "execution_count": 54,
   "id": "e31d28cf",
   "metadata": {},
   "outputs": [
    {
     "data": {
      "text/plain": [
       "113"
      ]
     },
     "execution_count": 54,
     "metadata": {},
     "output_type": "execute_result"
    }
   ],
   "source": [
    "# sort_values\n",
    "\n",
    "kohli_runs.sort_values()\n",
    "# descending \n",
    "kohli_runs.sort_values(ascending=False).head(6).values[0]"
   ]
  },
  {
   "cell_type": "markdown",
   "id": "bad1183b",
   "metadata": {},
   "source": [
    "these methods dont change the original series but if you want you can make changes to the original series using keyword arg of inplace=True"
   ]
  },
  {
   "cell_type": "code",
   "execution_count": 55,
   "id": "498a41f0",
   "metadata": {},
   "outputs": [
    {
     "data": {
      "text/plain": [
       "match_no\n",
       "1       1\n",
       "2      23\n",
       "3      13\n",
       "4      12\n",
       "5       1\n",
       "       ..\n",
       "211     0\n",
       "212    20\n",
       "213    73\n",
       "214    25\n",
       "215     7\n",
       "Name: runs, Length: 215, dtype: int64"
      ]
     },
     "execution_count": 55,
     "metadata": {},
     "output_type": "execute_result"
    }
   ],
   "source": [
    "kohli_runs"
   ]
  },
  {
   "cell_type": "code",
   "execution_count": 57,
   "id": "eb1a64dc",
   "metadata": {},
   "outputs": [],
   "source": [
    "vk = kohli_runs.copy()\n",
    "vk.sort_values(inplace=True)"
   ]
  },
  {
   "cell_type": "code",
   "execution_count": 58,
   "id": "b482cbad",
   "metadata": {},
   "outputs": [
    {
     "data": {
      "text/plain": [
       "match_no\n",
       "87       0\n",
       "211      0\n",
       "207      0\n",
       "206      0\n",
       "91       0\n",
       "      ... \n",
       "164    100\n",
       "120    100\n",
       "123    108\n",
       "126    109\n",
       "128    113\n",
       "Name: runs, Length: 215, dtype: int64"
      ]
     },
     "execution_count": 58,
     "metadata": {},
     "output_type": "execute_result"
    }
   ],
   "source": [
    "vk"
   ]
  },
  {
   "cell_type": "code",
   "execution_count": 59,
   "id": "b2fbf909",
   "metadata": {},
   "outputs": [
    {
     "data": {
      "text/plain": [
       "movie\n",
       "1920 (film)                   Rajniesh Duggall\n",
       "1920: London                     Sharman Joshi\n",
       "1920: The Evil Returns             Vicky Ahuja\n",
       "1971 (2007 film)                Manoj Bajpayee\n",
       "2 States (2014 film)              Arjun Kapoor\n",
       "                                   ...        \n",
       "Zindagi 50-50                      Veena Malik\n",
       "Zindagi Na Milegi Dobara        Hrithik Roshan\n",
       "Zindagi Tere Naam           Mithun Chakraborty\n",
       "Zokkomon                       Darsheel Safary\n",
       "Zor Lagaa Ke...Haiya!            Meghan Jadhav\n",
       "Name: lead, Length: 1500, dtype: object"
      ]
     },
     "execution_count": 59,
     "metadata": {},
     "output_type": "execute_result"
    }
   ],
   "source": [
    "# sort_index\n",
    "\n",
    "movies.sort_index()\n",
    "# movies.sort_index(inplace=True)"
   ]
  },
  {
   "cell_type": "markdown",
   "id": "28dd3b53",
   "metadata": {},
   "source": [
    "Series Math Methods"
   ]
  },
  {
   "cell_type": "code",
   "execution_count": null,
   "id": "647771c7",
   "metadata": {},
   "outputs": [],
   "source": [
    "# count\n",
    "\n"
   ]
  }
 ],
 "metadata": {
  "kernelspec": {
   "display_name": "Python 3 (ipykernel)",
   "language": "python",
   "name": "python3"
  },
  "language_info": {
   "codemirror_mode": {
    "name": "ipython",
    "version": 3
   },
   "file_extension": ".py",
   "mimetype": "text/x-python",
   "name": "python",
   "nbconvert_exporter": "python",
   "pygments_lexer": "ipython3",
   "version": "3.11.5"
  }
 },
 "nbformat": 4,
 "nbformat_minor": 5
}
