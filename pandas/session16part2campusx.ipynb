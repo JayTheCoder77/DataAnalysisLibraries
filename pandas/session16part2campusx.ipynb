{
 "cells": [
  {
   "cell_type": "code",
   "execution_count": 1,
   "id": "9f3568c1-d78e-4418-a1fb-b41ddd1a2268",
   "metadata": {},
   "outputs": [],
   "source": [
    "import pandas as pd\n",
    "import numpy as np"
   ]
  },
  {
   "cell_type": "markdown",
   "id": "0e7e5abd-68cb-4f56-9005-8a05a9190191",
   "metadata": {},
   "source": [
    "Series Math Methods"
   ]
  },
  {
   "cell_type": "code",
   "execution_count": 2,
   "id": "b079a264-d90d-43c2-a121-0410609f1df2",
   "metadata": {},
   "outputs": [
    {
     "data": {
      "text/plain": [
       "match_no    215\n",
       "runs        215\n",
       "dtype: int64"
      ]
     },
     "execution_count": 2,
     "metadata": {},
     "output_type": "execute_result"
    }
   ],
   "source": [
    "# count - doesnt count missing values \n",
    "# meanwhile size counts even them\n",
    "vk = pd.read_csv(\"kohli_ipl.csv\").squeeze()\n",
    "vk.count()"
   ]
  },
  {
   "cell_type": "code",
   "execution_count": 5,
   "id": "1ed1b7a4-13b9-45c1-b32f-92b2e2dd0b5c",
   "metadata": {},
   "outputs": [
    {
     "data": {
      "text/plain": [
       "np.int64(49510)"
      ]
     },
     "execution_count": 5,
     "metadata": {},
     "output_type": "execute_result"
    }
   ],
   "source": [
    "# sum -> product\n",
    "subs = pd.read_csv(\"subs.csv\").squeeze()\n",
    "subs.sum()"
   ]
  },
  {
   "cell_type": "code",
   "execution_count": 8,
   "id": "f2519fda-38ea-4fa0-9cb9-27641366aff9",
   "metadata": {},
   "outputs": [
    {
     "data": {
      "text/plain": [
       "np.int64(0)"
      ]
     },
     "execution_count": 8,
     "metadata": {},
     "output_type": "execute_result"
    }
   ],
   "source": [
    "subs.product()"
   ]
  },
  {
   "cell_type": "code",
   "execution_count": 9,
   "id": "760517bd-b157-45f1-a679-55846be3ce30",
   "metadata": {},
   "outputs": [
    {
     "data": {
      "text/plain": [
       "np.float64(135.64383561643837)"
      ]
     },
     "execution_count": 9,
     "metadata": {},
     "output_type": "execute_result"
    }
   ],
   "source": [
    "# mean -> median -> mode -> std deviation -> var\n",
    "subs.mean()"
   ]
  },
  {
   "cell_type": "code",
   "execution_count": 10,
   "id": "c54a47bb-0386-441d-a9ad-85685b799af4",
   "metadata": {},
   "outputs": [
    {
     "data": {
      "text/plain": [
       "match_no    108.0\n",
       "runs         24.0\n",
       "dtype: float64"
      ]
     },
     "execution_count": 10,
     "metadata": {},
     "output_type": "execute_result"
    }
   ],
   "source": [
    "vk.median()"
   ]
  },
  {
   "cell_type": "code",
   "execution_count": 37,
   "id": "de97979b-256d-4b05-bd60-fb9a87428cb3",
   "metadata": {},
   "outputs": [
    {
     "data": {
      "text/html": [
       "<div>\n",
       "<style scoped>\n",
       "    .dataframe tbody tr th:only-of-type {\n",
       "        vertical-align: middle;\n",
       "    }\n",
       "\n",
       "    .dataframe tbody tr th {\n",
       "        vertical-align: top;\n",
       "    }\n",
       "\n",
       "    .dataframe thead th {\n",
       "        text-align: right;\n",
       "    }\n",
       "</style>\n",
       "<table border=\"1\" class=\"dataframe\">\n",
       "  <thead>\n",
       "    <tr style=\"text-align: right;\">\n",
       "      <th></th>\n",
       "      <th>movie</th>\n",
       "      <th>lead</th>\n",
       "    </tr>\n",
       "  </thead>\n",
       "  <tbody>\n",
       "    <tr>\n",
       "      <th>0</th>\n",
       "      <td>Andaaz</td>\n",
       "      <td>Akshay Kumar</td>\n",
       "    </tr>\n",
       "    <tr>\n",
       "      <th>1</th>\n",
       "      <td>Gabbar Is Back</td>\n",
       "      <td>NaN</td>\n",
       "    </tr>\n",
       "    <tr>\n",
       "      <th>2</th>\n",
       "      <td>Tanu Weds Manu: Returns</td>\n",
       "      <td>NaN</td>\n",
       "    </tr>\n",
       "  </tbody>\n",
       "</table>\n",
       "</div>"
      ],
      "text/plain": [
       "                     movie          lead\n",
       "0                   Andaaz  Akshay Kumar\n",
       "1           Gabbar Is Back           NaN\n",
       "2  Tanu Weds Manu: Returns           NaN"
      ]
     },
     "execution_count": 37,
     "metadata": {},
     "output_type": "execute_result"
    }
   ],
   "source": [
    "movies = pd.read_csv(\"bollywood.csv\").squeeze()\n",
    "movies.mode()"
   ]
  },
  {
   "cell_type": "code",
   "execution_count": 13,
   "id": "85a4e012-6207-4acc-ba02-97d384980bdb",
   "metadata": {},
   "outputs": [
    {
     "data": {
      "text/plain": [
       "np.float64(62.6750230372527)"
      ]
     },
     "execution_count": 13,
     "metadata": {},
     "output_type": "execute_result"
    }
   ],
   "source": [
    "subs.std()"
   ]
  },
  {
   "cell_type": "code",
   "execution_count": 14,
   "id": "2ad56643-d171-4ba4-b73a-5d9dcd176362",
   "metadata": {},
   "outputs": [
    {
     "data": {
      "text/plain": [
       "match_no    3870.000000\n",
       "runs         688.002478\n",
       "dtype: float64"
      ]
     },
     "execution_count": 14,
     "metadata": {},
     "output_type": "execute_result"
    }
   ],
   "source": [
    "vk.var()"
   ]
  },
  {
   "cell_type": "code",
   "execution_count": 15,
   "id": "e8653646-73ca-4d86-b6b4-50055e528658",
   "metadata": {},
   "outputs": [
    {
     "data": {
      "text/plain": [
       "np.int64(33)"
      ]
     },
     "execution_count": 15,
     "metadata": {},
     "output_type": "execute_result"
    }
   ],
   "source": [
    "# min / max\n",
    "subs.min()"
   ]
  },
  {
   "cell_type": "code",
   "execution_count": 16,
   "id": "250ca481-df14-44af-9eed-76e2d9c332b2",
   "metadata": {},
   "outputs": [
    {
     "data": {
      "text/plain": [
       "np.int64(396)"
      ]
     },
     "execution_count": 16,
     "metadata": {},
     "output_type": "execute_result"
    }
   ],
   "source": [
    "subs.max()"
   ]
  },
  {
   "cell_type": "code",
   "execution_count": 17,
   "id": "112bba4b-5eb8-419a-85f6-38291c6cd0b6",
   "metadata": {},
   "outputs": [
    {
     "data": {
      "text/html": [
       "<div>\n",
       "<style scoped>\n",
       "    .dataframe tbody tr th:only-of-type {\n",
       "        vertical-align: middle;\n",
       "    }\n",
       "\n",
       "    .dataframe tbody tr th {\n",
       "        vertical-align: top;\n",
       "    }\n",
       "\n",
       "    .dataframe thead th {\n",
       "        text-align: right;\n",
       "    }\n",
       "</style>\n",
       "<table border=\"1\" class=\"dataframe\">\n",
       "  <thead>\n",
       "    <tr style=\"text-align: right;\">\n",
       "      <th></th>\n",
       "      <th>match_no</th>\n",
       "      <th>runs</th>\n",
       "    </tr>\n",
       "  </thead>\n",
       "  <tbody>\n",
       "    <tr>\n",
       "      <th>count</th>\n",
       "      <td>215.000000</td>\n",
       "      <td>215.000000</td>\n",
       "    </tr>\n",
       "    <tr>\n",
       "      <th>mean</th>\n",
       "      <td>108.000000</td>\n",
       "      <td>30.855814</td>\n",
       "    </tr>\n",
       "    <tr>\n",
       "      <th>std</th>\n",
       "      <td>62.209324</td>\n",
       "      <td>26.229801</td>\n",
       "    </tr>\n",
       "    <tr>\n",
       "      <th>min</th>\n",
       "      <td>1.000000</td>\n",
       "      <td>0.000000</td>\n",
       "    </tr>\n",
       "    <tr>\n",
       "      <th>25%</th>\n",
       "      <td>54.500000</td>\n",
       "      <td>9.000000</td>\n",
       "    </tr>\n",
       "    <tr>\n",
       "      <th>50%</th>\n",
       "      <td>108.000000</td>\n",
       "      <td>24.000000</td>\n",
       "    </tr>\n",
       "    <tr>\n",
       "      <th>75%</th>\n",
       "      <td>161.500000</td>\n",
       "      <td>48.000000</td>\n",
       "    </tr>\n",
       "    <tr>\n",
       "      <th>max</th>\n",
       "      <td>215.000000</td>\n",
       "      <td>113.000000</td>\n",
       "    </tr>\n",
       "  </tbody>\n",
       "</table>\n",
       "</div>"
      ],
      "text/plain": [
       "         match_no        runs\n",
       "count  215.000000  215.000000\n",
       "mean   108.000000   30.855814\n",
       "std     62.209324   26.229801\n",
       "min      1.000000    0.000000\n",
       "25%     54.500000    9.000000\n",
       "50%    108.000000   24.000000\n",
       "75%    161.500000   48.000000\n",
       "max    215.000000  113.000000"
      ]
     },
     "execution_count": 17,
     "metadata": {},
     "output_type": "execute_result"
    }
   ],
   "source": [
    "# describe - provides a summary\n",
    "vk.describe()"
   ]
  },
  {
   "cell_type": "markdown",
   "id": "a1f2cc9d-3f81-4f0e-bde2-5ede81ff6f36",
   "metadata": {},
   "source": [
    "Series Indexing"
   ]
  },
  {
   "cell_type": "code",
   "execution_count": 4,
   "id": "ea8c6d1b-a407-4a40-bd0a-2f0b583efde2",
   "metadata": {},
   "outputs": [
    {
     "data": {
      "text/plain": [
       "np.int64(12)"
      ]
     },
     "execution_count": 4,
     "metadata": {},
     "output_type": "execute_result"
    }
   ],
   "source": [
    "# integer indexing\n",
    "x = pd.Series([12,13,14,45,2,4,643])\n",
    "x[0]"
   ]
  },
  {
   "cell_type": "code",
   "execution_count": 20,
   "id": "2051997c-10a3-4b63-8ce4-e9e405476bdc",
   "metadata": {},
   "outputs": [
    {
     "data": {
      "text/html": [
       "<div>\n",
       "<style scoped>\n",
       "    .dataframe tbody tr th:only-of-type {\n",
       "        vertical-align: middle;\n",
       "    }\n",
       "\n",
       "    .dataframe tbody tr th {\n",
       "        vertical-align: top;\n",
       "    }\n",
       "\n",
       "    .dataframe thead th {\n",
       "        text-align: right;\n",
       "    }\n",
       "</style>\n",
       "<table border=\"1\" class=\"dataframe\">\n",
       "  <thead>\n",
       "    <tr style=\"text-align: right;\">\n",
       "      <th></th>\n",
       "      <th>movie</th>\n",
       "      <th>lead</th>\n",
       "    </tr>\n",
       "  </thead>\n",
       "  <tbody>\n",
       "    <tr>\n",
       "      <th>0</th>\n",
       "      <td>Uri: The Surgical Strike</td>\n",
       "      <td>Vicky Kaushal</td>\n",
       "    </tr>\n",
       "    <tr>\n",
       "      <th>1</th>\n",
       "      <td>Battalion 609</td>\n",
       "      <td>Vicky Ahuja</td>\n",
       "    </tr>\n",
       "    <tr>\n",
       "      <th>2</th>\n",
       "      <td>The Accidental Prime Minister (film)</td>\n",
       "      <td>Anupam Kher</td>\n",
       "    </tr>\n",
       "    <tr>\n",
       "      <th>3</th>\n",
       "      <td>Why Cheat India</td>\n",
       "      <td>Emraan Hashmi</td>\n",
       "    </tr>\n",
       "    <tr>\n",
       "      <th>4</th>\n",
       "      <td>Evening Shadows</td>\n",
       "      <td>Mona Ambegaonkar</td>\n",
       "    </tr>\n",
       "    <tr>\n",
       "      <th>...</th>\n",
       "      <td>...</td>\n",
       "      <td>...</td>\n",
       "    </tr>\n",
       "    <tr>\n",
       "      <th>1495</th>\n",
       "      <td>Hum Tumhare Hain Sanam</td>\n",
       "      <td>Shah Rukh Khan</td>\n",
       "    </tr>\n",
       "    <tr>\n",
       "      <th>1496</th>\n",
       "      <td>Aankhen (2002 film)</td>\n",
       "      <td>Amitabh Bachchan</td>\n",
       "    </tr>\n",
       "    <tr>\n",
       "      <th>1497</th>\n",
       "      <td>Saathiya (film)</td>\n",
       "      <td>Vivek Oberoi</td>\n",
       "    </tr>\n",
       "    <tr>\n",
       "      <th>1498</th>\n",
       "      <td>Company (film)</td>\n",
       "      <td>Ajay Devgn</td>\n",
       "    </tr>\n",
       "    <tr>\n",
       "      <th>1499</th>\n",
       "      <td>Awara Paagal Deewana</td>\n",
       "      <td>Akshay Kumar</td>\n",
       "    </tr>\n",
       "  </tbody>\n",
       "</table>\n",
       "<p>1500 rows × 2 columns</p>\n",
       "</div>"
      ],
      "text/plain": [
       "                                     movie              lead\n",
       "0                 Uri: The Surgical Strike     Vicky Kaushal\n",
       "1                            Battalion 609       Vicky Ahuja\n",
       "2     The Accidental Prime Minister (film)       Anupam Kher\n",
       "3                          Why Cheat India     Emraan Hashmi\n",
       "4                          Evening Shadows  Mona Ambegaonkar\n",
       "...                                    ...               ...\n",
       "1495                Hum Tumhare Hain Sanam    Shah Rukh Khan\n",
       "1496                   Aankhen (2002 film)  Amitabh Bachchan\n",
       "1497                       Saathiya (film)      Vivek Oberoi\n",
       "1498                        Company (film)        Ajay Devgn\n",
       "1499                  Awara Paagal Deewana      Akshay Kumar\n",
       "\n",
       "[1500 rows x 2 columns]"
      ]
     },
     "execution_count": 20,
     "metadata": {},
     "output_type": "execute_result"
    }
   ],
   "source": [
    "# when custom indexing is present [-1] works\n",
    "movies\n",
    "vk[-1]"
   ]
  },
  {
   "cell_type": "code",
   "execution_count": 21,
   "id": "6a3a2eb5-0c0c-4c89-beec-a59e0d405e7e",
   "metadata": {},
   "outputs": [
    {
     "data": {
      "text/html": [
       "<div>\n",
       "<style scoped>\n",
       "    .dataframe tbody tr th:only-of-type {\n",
       "        vertical-align: middle;\n",
       "    }\n",
       "\n",
       "    .dataframe tbody tr th {\n",
       "        vertical-align: top;\n",
       "    }\n",
       "\n",
       "    .dataframe thead th {\n",
       "        text-align: right;\n",
       "    }\n",
       "</style>\n",
       "<table border=\"1\" class=\"dataframe\">\n",
       "  <thead>\n",
       "    <tr style=\"text-align: right;\">\n",
       "      <th></th>\n",
       "      <th>match_no</th>\n",
       "      <th>runs</th>\n",
       "    </tr>\n",
       "  </thead>\n",
       "  <tbody>\n",
       "    <tr>\n",
       "      <th>5</th>\n",
       "      <td>6</td>\n",
       "      <td>9</td>\n",
       "    </tr>\n",
       "    <tr>\n",
       "      <th>6</th>\n",
       "      <td>7</td>\n",
       "      <td>34</td>\n",
       "    </tr>\n",
       "    <tr>\n",
       "      <th>7</th>\n",
       "      <td>8</td>\n",
       "      <td>0</td>\n",
       "    </tr>\n",
       "    <tr>\n",
       "      <th>8</th>\n",
       "      <td>9</td>\n",
       "      <td>21</td>\n",
       "    </tr>\n",
       "    <tr>\n",
       "      <th>9</th>\n",
       "      <td>10</td>\n",
       "      <td>3</td>\n",
       "    </tr>\n",
       "    <tr>\n",
       "      <th>10</th>\n",
       "      <td>11</td>\n",
       "      <td>10</td>\n",
       "    </tr>\n",
       "    <tr>\n",
       "      <th>11</th>\n",
       "      <td>12</td>\n",
       "      <td>38</td>\n",
       "    </tr>\n",
       "    <tr>\n",
       "      <th>12</th>\n",
       "      <td>13</td>\n",
       "      <td>3</td>\n",
       "    </tr>\n",
       "    <tr>\n",
       "      <th>13</th>\n",
       "      <td>14</td>\n",
       "      <td>11</td>\n",
       "    </tr>\n",
       "    <tr>\n",
       "      <th>14</th>\n",
       "      <td>15</td>\n",
       "      <td>50</td>\n",
       "    </tr>\n",
       "    <tr>\n",
       "      <th>15</th>\n",
       "      <td>16</td>\n",
       "      <td>2</td>\n",
       "    </tr>\n",
       "  </tbody>\n",
       "</table>\n",
       "</div>"
      ],
      "text/plain": [
       "    match_no  runs\n",
       "5          6     9\n",
       "6          7    34\n",
       "7          8     0\n",
       "8          9    21\n",
       "9         10     3\n",
       "10        11    10\n",
       "11        12    38\n",
       "12        13     3\n",
       "13        14    11\n",
       "14        15    50\n",
       "15        16     2"
      ]
     },
     "execution_count": 21,
     "metadata": {},
     "output_type": "execute_result"
    }
   ],
   "source": [
    "# slicing\n",
    "\n",
    "vk[5:16]"
   ]
  },
  {
   "cell_type": "code",
   "execution_count": 22,
   "id": "b074893f-56be-4fd0-88df-3814b7e682d8",
   "metadata": {},
   "outputs": [
    {
     "data": {
      "text/html": [
       "<div>\n",
       "<style scoped>\n",
       "    .dataframe tbody tr th:only-of-type {\n",
       "        vertical-align: middle;\n",
       "    }\n",
       "\n",
       "    .dataframe tbody tr th {\n",
       "        vertical-align: top;\n",
       "    }\n",
       "\n",
       "    .dataframe thead th {\n",
       "        text-align: right;\n",
       "    }\n",
       "</style>\n",
       "<table border=\"1\" class=\"dataframe\">\n",
       "  <thead>\n",
       "    <tr style=\"text-align: right;\">\n",
       "      <th></th>\n",
       "      <th>match_no</th>\n",
       "      <th>runs</th>\n",
       "    </tr>\n",
       "  </thead>\n",
       "  <tbody>\n",
       "    <tr>\n",
       "      <th>210</th>\n",
       "      <td>211</td>\n",
       "      <td>0</td>\n",
       "    </tr>\n",
       "    <tr>\n",
       "      <th>211</th>\n",
       "      <td>212</td>\n",
       "      <td>20</td>\n",
       "    </tr>\n",
       "    <tr>\n",
       "      <th>212</th>\n",
       "      <td>213</td>\n",
       "      <td>73</td>\n",
       "    </tr>\n",
       "    <tr>\n",
       "      <th>213</th>\n",
       "      <td>214</td>\n",
       "      <td>25</td>\n",
       "    </tr>\n",
       "    <tr>\n",
       "      <th>214</th>\n",
       "      <td>215</td>\n",
       "      <td>7</td>\n",
       "    </tr>\n",
       "  </tbody>\n",
       "</table>\n",
       "</div>"
      ],
      "text/plain": [
       "     match_no  runs\n",
       "210       211     0\n",
       "211       212    20\n",
       "212       213    73\n",
       "213       214    25\n",
       "214       215     7"
      ]
     },
     "execution_count": 22,
     "metadata": {},
     "output_type": "execute_result"
    }
   ],
   "source": [
    "vk[-5:]"
   ]
  },
  {
   "cell_type": "code",
   "execution_count": 23,
   "id": "04243b37-8e02-4493-b68b-62dc5feb02f9",
   "metadata": {},
   "outputs": [
    {
     "data": {
      "text/html": [
       "<div>\n",
       "<style scoped>\n",
       "    .dataframe tbody tr th:only-of-type {\n",
       "        vertical-align: middle;\n",
       "    }\n",
       "\n",
       "    .dataframe tbody tr th {\n",
       "        vertical-align: top;\n",
       "    }\n",
       "\n",
       "    .dataframe thead th {\n",
       "        text-align: right;\n",
       "    }\n",
       "</style>\n",
       "<table border=\"1\" class=\"dataframe\">\n",
       "  <thead>\n",
       "    <tr style=\"text-align: right;\">\n",
       "      <th></th>\n",
       "      <th>movie</th>\n",
       "      <th>lead</th>\n",
       "    </tr>\n",
       "  </thead>\n",
       "  <tbody>\n",
       "    <tr>\n",
       "      <th>1495</th>\n",
       "      <td>Hum Tumhare Hain Sanam</td>\n",
       "      <td>Shah Rukh Khan</td>\n",
       "    </tr>\n",
       "    <tr>\n",
       "      <th>1496</th>\n",
       "      <td>Aankhen (2002 film)</td>\n",
       "      <td>Amitabh Bachchan</td>\n",
       "    </tr>\n",
       "    <tr>\n",
       "      <th>1497</th>\n",
       "      <td>Saathiya (film)</td>\n",
       "      <td>Vivek Oberoi</td>\n",
       "    </tr>\n",
       "    <tr>\n",
       "      <th>1498</th>\n",
       "      <td>Company (film)</td>\n",
       "      <td>Ajay Devgn</td>\n",
       "    </tr>\n",
       "    <tr>\n",
       "      <th>1499</th>\n",
       "      <td>Awara Paagal Deewana</td>\n",
       "      <td>Akshay Kumar</td>\n",
       "    </tr>\n",
       "  </tbody>\n",
       "</table>\n",
       "</div>"
      ],
      "text/plain": [
       "                       movie              lead\n",
       "1495  Hum Tumhare Hain Sanam    Shah Rukh Khan\n",
       "1496     Aankhen (2002 film)  Amitabh Bachchan\n",
       "1497         Saathiya (film)      Vivek Oberoi\n",
       "1498          Company (film)        Ajay Devgn\n",
       "1499    Awara Paagal Deewana      Akshay Kumar"
      ]
     },
     "execution_count": 23,
     "metadata": {},
     "output_type": "execute_result"
    }
   ],
   "source": [
    "movies[-5:]"
   ]
  },
  {
   "cell_type": "code",
   "execution_count": 25,
   "id": "fd5e8286-1e5f-4203-b1ca-3a8851b94f49",
   "metadata": {},
   "outputs": [
    {
     "data": {
      "text/html": [
       "<div>\n",
       "<style scoped>\n",
       "    .dataframe tbody tr th:only-of-type {\n",
       "        vertical-align: middle;\n",
       "    }\n",
       "\n",
       "    .dataframe tbody tr th {\n",
       "        vertical-align: top;\n",
       "    }\n",
       "\n",
       "    .dataframe thead th {\n",
       "        text-align: right;\n",
       "    }\n",
       "</style>\n",
       "<table border=\"1\" class=\"dataframe\">\n",
       "  <thead>\n",
       "    <tr style=\"text-align: right;\">\n",
       "      <th></th>\n",
       "      <th>movie</th>\n",
       "      <th>lead</th>\n",
       "    </tr>\n",
       "  </thead>\n",
       "  <tbody>\n",
       "    <tr>\n",
       "      <th>0</th>\n",
       "      <td>Uri: The Surgical Strike</td>\n",
       "      <td>Vicky Kaushal</td>\n",
       "    </tr>\n",
       "    <tr>\n",
       "      <th>2</th>\n",
       "      <td>The Accidental Prime Minister (film)</td>\n",
       "      <td>Anupam Kher</td>\n",
       "    </tr>\n",
       "    <tr>\n",
       "      <th>4</th>\n",
       "      <td>Evening Shadows</td>\n",
       "      <td>Mona Ambegaonkar</td>\n",
       "    </tr>\n",
       "    <tr>\n",
       "      <th>6</th>\n",
       "      <td>Fraud Saiyaan</td>\n",
       "      <td>Arshad Warsi</td>\n",
       "    </tr>\n",
       "    <tr>\n",
       "      <th>8</th>\n",
       "      <td>Manikarnika: The Queen of Jhansi</td>\n",
       "      <td>Kangana Ranaut</td>\n",
       "    </tr>\n",
       "    <tr>\n",
       "      <th>...</th>\n",
       "      <td>...</td>\n",
       "      <td>...</td>\n",
       "    </tr>\n",
       "    <tr>\n",
       "      <th>1490</th>\n",
       "      <td>Raaz (2002 film)</td>\n",
       "      <td>Dino Morea</td>\n",
       "    </tr>\n",
       "    <tr>\n",
       "      <th>1492</th>\n",
       "      <td>Waisa Bhi Hota Hai Part II</td>\n",
       "      <td>Arshad Warsi</td>\n",
       "    </tr>\n",
       "    <tr>\n",
       "      <th>1494</th>\n",
       "      <td>Kaante</td>\n",
       "      <td>Amitabh Bachchan</td>\n",
       "    </tr>\n",
       "    <tr>\n",
       "      <th>1496</th>\n",
       "      <td>Aankhen (2002 film)</td>\n",
       "      <td>Amitabh Bachchan</td>\n",
       "    </tr>\n",
       "    <tr>\n",
       "      <th>1498</th>\n",
       "      <td>Company (film)</td>\n",
       "      <td>Ajay Devgn</td>\n",
       "    </tr>\n",
       "  </tbody>\n",
       "</table>\n",
       "<p>750 rows × 2 columns</p>\n",
       "</div>"
      ],
      "text/plain": [
       "                                     movie              lead\n",
       "0                 Uri: The Surgical Strike     Vicky Kaushal\n",
       "2     The Accidental Prime Minister (film)       Anupam Kher\n",
       "4                          Evening Shadows  Mona Ambegaonkar\n",
       "6                            Fraud Saiyaan      Arshad Warsi\n",
       "8         Manikarnika: The Queen of Jhansi    Kangana Ranaut\n",
       "...                                    ...               ...\n",
       "1490                      Raaz (2002 film)        Dino Morea\n",
       "1492            Waisa Bhi Hota Hai Part II      Arshad Warsi\n",
       "1494                                Kaante  Amitabh Bachchan\n",
       "1496                   Aankhen (2002 film)  Amitabh Bachchan\n",
       "1498                        Company (film)        Ajay Devgn\n",
       "\n",
       "[750 rows x 2 columns]"
      ]
     },
     "execution_count": 25,
     "metadata": {},
     "output_type": "execute_result"
    }
   ],
   "source": [
    "movies[::2]"
   ]
  },
  {
   "cell_type": "code",
   "execution_count": 28,
   "id": "449e131a-3656-4ce2-9f5b-3e67a40a38ba",
   "metadata": {},
   "outputs": [
    {
     "data": {
      "text/html": [
       "<div>\n",
       "<style scoped>\n",
       "    .dataframe tbody tr th:only-of-type {\n",
       "        vertical-align: middle;\n",
       "    }\n",
       "\n",
       "    .dataframe tbody tr th {\n",
       "        vertical-align: top;\n",
       "    }\n",
       "\n",
       "    .dataframe thead th {\n",
       "        text-align: right;\n",
       "    }\n",
       "</style>\n",
       "<table border=\"1\" class=\"dataframe\">\n",
       "  <thead>\n",
       "    <tr style=\"text-align: right;\">\n",
       "      <th></th>\n",
       "      <th>match_no</th>\n",
       "      <th>runs</th>\n",
       "    </tr>\n",
       "  </thead>\n",
       "  <tbody>\n",
       "    <tr>\n",
       "      <th>0</th>\n",
       "      <td>1</td>\n",
       "      <td>1</td>\n",
       "    </tr>\n",
       "    <tr>\n",
       "      <th>1</th>\n",
       "      <td>2</td>\n",
       "      <td>23</td>\n",
       "    </tr>\n",
       "    <tr>\n",
       "      <th>2</th>\n",
       "      <td>3</td>\n",
       "      <td>13</td>\n",
       "    </tr>\n",
       "    <tr>\n",
       "      <th>3</th>\n",
       "      <td>4</td>\n",
       "      <td>12</td>\n",
       "    </tr>\n",
       "    <tr>\n",
       "      <th>4</th>\n",
       "      <td>5</td>\n",
       "      <td>1</td>\n",
       "    </tr>\n",
       "    <tr>\n",
       "      <th>...</th>\n",
       "      <td>...</td>\n",
       "      <td>...</td>\n",
       "    </tr>\n",
       "    <tr>\n",
       "      <th>210</th>\n",
       "      <td>211</td>\n",
       "      <td>0</td>\n",
       "    </tr>\n",
       "    <tr>\n",
       "      <th>211</th>\n",
       "      <td>212</td>\n",
       "      <td>20</td>\n",
       "    </tr>\n",
       "    <tr>\n",
       "      <th>212</th>\n",
       "      <td>213</td>\n",
       "      <td>73</td>\n",
       "    </tr>\n",
       "    <tr>\n",
       "      <th>213</th>\n",
       "      <td>214</td>\n",
       "      <td>25</td>\n",
       "    </tr>\n",
       "    <tr>\n",
       "      <th>214</th>\n",
       "      <td>215</td>\n",
       "      <td>7</td>\n",
       "    </tr>\n",
       "  </tbody>\n",
       "</table>\n",
       "<p>215 rows × 2 columns</p>\n",
       "</div>"
      ],
      "text/plain": [
       "     match_no  runs\n",
       "0           1     1\n",
       "1           2    23\n",
       "2           3    13\n",
       "3           4    12\n",
       "4           5     1\n",
       "..        ...   ...\n",
       "210       211     0\n",
       "211       212    20\n",
       "212       213    73\n",
       "213       214    25\n",
       "214       215     7\n",
       "\n",
       "[215 rows x 2 columns]"
      ]
     },
     "execution_count": 28,
     "metadata": {},
     "output_type": "execute_result"
    }
   ],
   "source": [
    "# fancy indexing\n",
    "\n",
    "vk[[1,3,4,5]]\n",
    "vk"
   ]
  },
  {
   "cell_type": "code",
   "execution_count": null,
   "id": "245bc9f7-a7a9-470b-9d40-d9989db0ac00",
   "metadata": {},
   "outputs": [],
   "source": [
    "# indexing with labels\n",
    "movies['Fraud Saiyaan']"
   ]
  },
  {
   "cell_type": "markdown",
   "id": "a00a0864-f9be-426d-9147-4c456e6b1001",
   "metadata": {},
   "source": [
    "Editing Series"
   ]
  },
  {
   "cell_type": "code",
   "execution_count": 10,
   "id": "f6c94ee5-12f4-4f35-90c1-9a2e5c54a939",
   "metadata": {},
   "outputs": [
    {
     "data": {
      "text/plain": [
       "Maths        67\n",
       "english      57\n",
       "french       89\n",
       "business    100\n",
       "Name: jay marks 2025, dtype: int64"
      ]
     },
     "execution_count": 10,
     "metadata": {},
     "output_type": "execute_result"
    }
   ],
   "source": [
    "# using indexing\n",
    "marks = {\n",
    "    'Maths'    :    67,\n",
    "    'english'   :   57,\n",
    "    'french'    :   89,\n",
    "    'business'  :  100\n",
    "}\n",
    "marks_series = pd.Series(marks,name='jay marks 2025')\n",
    "marks_series"
   ]
  },
  {
   "cell_type": "code",
   "execution_count": 11,
   "id": "3780f065-7fcb-41ad-880c-e4bb930b6715",
   "metadata": {},
   "outputs": [],
   "source": [
    "marks[1] = 100"
   ]
  },
  {
   "cell_type": "code",
   "execution_count": 13,
   "id": "c56c799c-ab79-4403-9fe0-b9b8cd8459d0",
   "metadata": {},
   "outputs": [
    {
     "data": {
      "text/plain": [
       "{'Maths': 67, 'english': 90, 'french': 89, 'business': 100, 1: 100}"
      ]
     },
     "execution_count": 13,
     "metadata": {},
     "output_type": "execute_result"
    }
   ],
   "source": [
    "marks['english'] = 90\n",
    "marks"
   ]
  },
  {
   "cell_type": "code",
   "execution_count": 14,
   "id": "706eb895-9ff4-44c0-9e0a-8a3c65b99767",
   "metadata": {},
   "outputs": [],
   "source": [
    "marks['sst'] = 91"
   ]
  },
  {
   "cell_type": "code",
   "execution_count": 15,
   "id": "fcc9c243-0d3c-4182-a502-b50d8d31605b",
   "metadata": {},
   "outputs": [
    {
     "data": {
      "text/plain": [
       "{'Maths': 67, 'english': 90, 'french': 89, 'business': 100, 1: 100, 'sst': 91}"
      ]
     },
     "execution_count": 15,
     "metadata": {},
     "output_type": "execute_result"
    }
   ],
   "source": [
    "marks"
   ]
  },
  {
   "cell_type": "code",
   "execution_count": 22,
   "id": "6c4e594f-40af-4c99-9ecb-9738a43921fc",
   "metadata": {},
   "outputs": [
    {
     "data": {
      "text/plain": [
       "0     31\n",
       "1     24\n",
       "2     56\n",
       "3     78\n",
       "4    100\n",
       "dtype: int64"
      ]
     },
     "execution_count": 22,
     "metadata": {},
     "output_type": "execute_result"
    }
   ],
   "source": [
    "# slicing\n",
    "runs = {0 :31,1:24,2:56,3:78,4:100}\n",
    "\n",
    "runs_series = pd.Series(runs)\n",
    "runs_series"
   ]
  },
  {
   "cell_type": "code",
   "execution_count": 23,
   "id": "8f0f65e8-8cf9-4de3-970c-8ff16e27352b",
   "metadata": {},
   "outputs": [
    {
     "data": {
      "text/plain": [
       "{0: 31, 1: 24, 2: 56, 3: 78, 4: 100, slice(2, 4, None): [100, 100]}"
      ]
     },
     "execution_count": 23,
     "metadata": {},
     "output_type": "execute_result"
    }
   ],
   "source": [
    "runs[2:4] = [100,100]\n",
    "runs"
   ]
  },
  {
   "cell_type": "code",
   "execution_count": 27,
   "id": "1933d92a-2fb1-4ff8-b8ac-9e5daefc7b7a",
   "metadata": {},
   "outputs": [],
   "source": [
    "# fancy indexing\n",
    "runs[[0,3,4]] = [0,0,0]"
   ]
  },
  {
   "cell_type": "markdown",
   "id": "12c52c38-7c09-43d8-9a82-2dd7e8982e26",
   "metadata": {},
   "source": [
    "series with python functionalities"
   ]
  },
  {
   "cell_type": "code",
   "execution_count": 34,
   "id": "e3c28f63-e44d-4daf-b6d9-d17642140356",
   "metadata": {},
   "outputs": [
    {
     "data": {
      "text/plain": [
       "33"
      ]
     },
     "execution_count": 34,
     "metadata": {},
     "output_type": "execute_result"
    }
   ],
   "source": [
    "# len/type/dit/sorted/max/min\n",
    "len(subs)\n",
    "type(subs)\n",
    "dir(subs)\n",
    "sorted(subs)\n",
    "max(subs)\n",
    "min(subs)"
   ]
  },
  {
   "cell_type": "code",
   "execution_count": 36,
   "id": "f385f968-4a8a-46a0-a84e-0c35598daa23",
   "metadata": {},
   "outputs": [
    {
     "data": {
      "text/plain": [
       "{'Maths': 67, 'english': 90, 'french': 89, 'business': 100, 1: 100, 'sst': 91}"
      ]
     },
     "execution_count": 36,
     "metadata": {},
     "output_type": "execute_result"
    }
   ],
   "source": [
    "# type conversion\n",
    "list(marks)\n",
    "dict(marks)"
   ]
  },
  {
   "cell_type": "code",
   "execution_count": 39,
   "id": "7c1a817c-1033-40f6-aa91-aa2c1723880b",
   "metadata": {},
   "outputs": [
    {
     "data": {
      "text/plain": [
       "True"
      ]
     },
     "execution_count": 39,
     "metadata": {},
     "output_type": "execute_result"
    }
   ],
   "source": [
    "# membership operator\n",
    "'Fraud Saiyaan' in movies.values"
   ]
  },
  {
   "cell_type": "code",
   "execution_count": 42,
   "id": "19547d13-0e7d-48d1-bb10-1ecd62baaeab",
   "metadata": {},
   "outputs": [
    {
     "name": "stdout",
     "output_type": "stream",
     "text": [
      "['Uri: The Surgical Strike' 'Vicky Kaushal'] ['Battalion 609' 'Vicky Ahuja'] ['The Accidental Prime Minister (film)' 'Anupam Kher'] ['Why Cheat India' 'Emraan Hashmi'] ['Evening Shadows' 'Mona Ambegaonkar'] ['Soni (film)' 'Geetika Vidya Ohlyan'] ['Fraud Saiyaan' 'Arshad Warsi'] ['Bombairiya' 'Radhika Apte'] ['Manikarnika: The Queen of Jhansi' 'Kangana Ranaut'] ['Thackeray (film)' 'Nawazuddin Siddiqui'] ['Amavas' 'Ali Asgar'] ['Gully Boy' 'Ranveer Singh'] ['Hum Chaar' 'Prit Kamani'] ['Total Dhamaal' 'Ajay Devgn'] ['Sonchiriya' 'Sushant Singh Rajput'] ['Badla (2019 film)' 'Amitabh Bachchan'] ['Mard Ko Dard Nahi Hota' 'Abhimanyu Dasani'] ['Hamid (film)' 'Talha Arshad Reshi'] ['Photograph (film)' 'Nawazuddin Siddiqui'] ['Risknamaa' 'Garima Agarwal'] ['Mere Pyare Prime Minister' 'Rasika Agashe'] ['22 Yards' 'Barun Sobti'] ['Kesari (film)' 'Akshay Kumar'] ['Notebook (2019 film)' 'Zaheer Iqbal'] ['Junglee (2019 film)' 'Vidyut Jammwal'] ['Gone Kesh' 'Deepika Amin'] ['Albert Pinto Ko Gussa Kyun Aata Hai?' 'Manav Kaul'] ['The Tashkent Files' 'Naseeruddin Shah'] ['Kalank' 'Varun Dhawan'] ['Setters (film)' 'Shreyas Talpade'] ['Student of the Year 2' 'Tiger Shroff'] ['PM Narendra Modi' 'Boman Irani'] ['De De Pyaar De' 'Ajay Devgn'] [\"India's Most Wanted (film)\" 'Arjun Kapoor'] ['Yeh Hai India' 'Gavie Chahal'] ['Khamoshi (2019 film)' 'Prabhu Deva'] ['Kabir Singh' 'Shahid Kapoor'] ['Article 15 (film)' 'Ayushmann Khurrana'] ['One Day: Justice Delivered' 'Anupam Kher'] ['Hume Tumse Pyaar Kitna' 'Karanvir Bohra'] ['Super 30 (film)' 'Hrithik Roshan'] ['Family of Thakurganj' 'Jimmy Sheirgill'] ['Batla House' 'John Abraham'] ['Jhootha Kahin Ka' 'Rishi Kapoor'] ['Judgementall Hai Kya' 'Kangana Ranaut'] ['Chicken Curry Law' 'Natalia Janoszek'] ['Arjun Patiala' 'Diljit Dosanjh'] ['Jabariya Jodi' 'Sidharth Malhotra'] ['Pranaam' 'Rajeev Khandelwal'] ['The Sky Is Pink' 'Zaira Wasim'] ['Mission Mangal' 'Akshay Kumar'] ['Saaho' 'Jacqueline Fernandez'] ['Dream Girl (2019 film)' 'Ayushmann Khurrana'] ['Section 375' 'Akshaye Khanna'] ['The Zoya Factor (film)' 'Sonam Kapoor'] ['Pal Pal Dil Ke Paas' 'Karan Deol'] ['Prassthanam' 'Sanjay Dutt'] ['P Se Pyaar F Se Faraar' 'Bhavesh Kumar'] ['Ghost (2019 film)' 'Sanaya Irani'] ['Bala (2019 film)' 'Ayushmann Khurrana'] ['Yaaram (2019 film)' 'Siddhanth Kapoor'] ['Housefull 4' 'Akshay Kumar'] ['Saand Ki Aankh' 'Taapsee Pannu'] ['Made in China (2019 film)' 'Rajkummar Rao'] ['Ujda Chaman' 'Sunny Singh Nijjar'] ['Bypass Road (film)' 'Neil Nitin Mukesh'] ['Satellite Shankar' 'Suraj Pancholi'] ['Jhalki' 'Boman Irani'] ['Marjaavaan' 'Riteish Deshmukh'] ['Motichoor Chaknachoor' 'Nawazuddin Siddiqui'] ['Keep Safe Distance (film)' 'Shahbaaz Khan'] ['Pagalpanti (2019 film)' 'Kriti Kharbanda'] ['Ramprasad Ki Tehrvi' 'Naseeruddin Shah'] ['Yeh Saali Aashiqui' 'Vardhan Puri'] ['Dil Bechara' 'Sushant Singh Rajput'] ['Pati Patni Aur Woh (2019 film)' 'Kartik Aaryan'] ['Commando 3 (film)' 'Vidyut Jammwal'] ['Mardaani 2' 'Rani Mukerji'] ['Dabangg 3' 'Salman Khan'] ['Good Newwz' 'Akshay Kumar'] ['Kaalakaandi' 'Saif Ali Khan'] ['Vodka Diaries' 'Kay Kay Menon'] ['My Birthday Song' 'Nora Fatehi'] ['Nirdosh' 'Ashmit Patel'] ['Mukkabaaz' 'Viineet Kumar'] ['Union Leader (film)' 'Rahul Bhat'] ['Love per Square Foot' 'Vicky Kaushal'] ['Aiyaary' 'Sidharth Malhotra'] ['Padmaavat' 'Deepika Padukone'] ['Kuchh Bheege Alfaaz' 'Geetanjali Thapa'] ['Jaane Kyun De Yaaron' 'Akshay Anand'] ['Veerey Ki Wedding' 'Pulkit Samrat'] ['Sonu Ke Titu Ki Sweety' 'Kartik Aaryan'] ['Hate Story 4' 'Lee Byford'] ['Dil Juunglee' 'Taapsee Pannu'] ['3 Storeys' 'Aisha Ahmed'] ['Raid (2018 film)' 'Ajay Devgn'] ['Hichki' 'Rani Mukerji'] ['Missing (2018 film)' 'Manoj Bajpayee'] ['Baaghi 2' 'Tiger Shroff'] ['October (2018 film)' 'Varun Dhawan'] ['Mercury (film)' 'Prabhu Deva'] ['Beyond the Clouds (2017 film)' 'Ishaan Khattar'] ['Nanu Ki Jaanu' 'Abhay Deol'] ['Daas Dev' 'Yogesh Raj Mishra'] ['Omerta (film)' 'Rajkummar Rao'] ['Raazi' 'Alia Bhatt'] ['Hope Aur Hum' 'Naseeruddin Shah'] ['High Jack (film)' 'Sumeet Vyas'] ['Khajoor Pe Atke' 'Vinay Pathak'] ['Parmanu: The Story of Pokhran' 'John Abraham'] ['Bioscopewala' 'Danny Denzongpa'] ['Bhavesh Joshi Superhero' 'Harshvardhan Kapoor'] ['Phamous' 'Jimmy Sheirgill'] ['Race 3' 'Anil Kapoor'] ['Dhadak' 'Ishaan Khattar'] ['Sanju' 'Ranbir Kapoor'] ['Saheb Biwi Aur Gangster 3' 'Sanjay Dutt'] ['Nawabzaade' 'Dharmesh Yelande'] ['Mulk (film)' 'Taapsee Pannu'] ['Brij Mohan Amar Rahe' 'Arjun Mathur'] ['Karwaan' 'Irrfan Khan'] ['Gold (2018 film)' 'Akshay Kumar'] ['Satyameva Jayate (2018 film)' 'John Abraham'] ['Happy Phirr Bhag Jayegi' 'Sonakshi Sinha'] ['Genius (2018 Hindi film)' 'Utkarsh Sharma'] ['Yamla Pagla Deewana: Phir Se' 'Dharmendra'] ['Stree (2018 film)' 'Rajkummar Rao'] ['Paltan (film)' 'Jackie Shroff'] ['Laila Majnu (2018 film)' 'Avinash Tiwary'] ['Gali Guleiyan' 'Manoj Bajpayee'] ['Halkaa' 'Paoli Dam'] ['Pataakha' 'Sanya Malhotra'] ['Batti Gul Meter Chalu' 'Shahid Kapoor'] ['Love Sonia' 'Abhishek Bharate'] ['Manto (2018 film)' 'Nawazuddin Siddiqui'] ['Ishqeria' 'Manish Anand'] ['Manmarziyaan' 'Taapsee Pannu'] ['Mitron' 'Jackky Bhagnani'] ['Sui Dhaaga' 'Anushka Sharma'] ['Baazaar' 'Radhika Apte'] ['Jalebi (film)' 'Rhea Chakraborty'] ['FryDay' 'Govinda'] ['Tumbbad' 'Sohum Shah'] ['Helicopter Eela' 'Kajol'] ['Namaste England' 'Arjun Kapoor'] ['Andhadhun' 'Ayushmann Khurrana'] ['Badhaai Ho' 'Ayushmann Khurrana'] ['5 Weddings' 'Nargis Fakhri'] ['Kaashi in Search of Ganga' 'Aishwarya Devan'] ['Dassehra' 'Neil Nitin Mukesh'] ['The Journey of Karma' 'Shakti Kapoor'] ['Jack and Dil' 'Amit Sadh'] ['Mohalla Assi' 'Sunny Deol'] ['Pihu' 'Rahul Bagga'] ['Bhaiaji Superhit' 'Sunny Deol'] ['Rajma Chawal' 'Amyra Dastur'] ['Zero (2018 film)' 'Shah Rukh Khan'] ['Simmba' 'Ranveer Singh'] ['Tiger Zinda Hai' 'Salman Khan'] ['Golmaal Again' 'Ajay Devgn'] ['Judwaa 2' 'Varun Dhawan'] ['Ok Jaanu' 'Shraddha Kapoor'] ['Coffee with D' 'Sunil Grover'] ['Kaabil' 'Hrithik Roshan'] ['Raees (film)' 'Raj Arjun'] ['Thugs of Hindostan' 'Aamir Khan'] ['Hind Ka Napak Ko Jawab: MSG Lion Heart 2' 'Gurmeet Ram Rahim Singh'] ['Running Shaadi' 'Arsh Bajwa'] ['The Ghazi Attack' 'Rana Daggubati'] ['Irada (2017 film)' 'Naseeruddin Shah'] ['Rangoon (2017 Hindi film)' 'Kangana Ranaut'] ['Wedding Anniversary' 'Nana Patekar'] ['Jeena Isi Ka Naam Hai (film)' 'Arbaaz Khan'] ['Badrinath Ki Dulhania' 'Varun Dhawan'] ['Trapped (2016 Hindi film)' 'Rajkummar Rao'] ['Aa Gaya Hero' 'Govinda'] ['Mantra (2016 film)' 'Rajat Kapoor'] ['Phillauri (film)' 'Anushka Sharma'] ['Machine (2017 film)' 'Kiara Advani'] ['Bhanwarey' 'Shaurya Singh'] ['Anaarkali of Aarah' 'Pankaj Tripathi'] ['Naam Shabana' 'Taapsee Pannu'] ['Hotel Salvation' 'Adil Hussain'] ['Begum Jaan' 'Amitabh Bachchan'] ['Noor (film)' 'Sunny Leone'] ['Ek Thi Rani Aisi Bhi' 'Hema Malini'] ['Maatr' 'Raveena Tandon'] ['Sarkar 3' 'Amitabh Bachchan'] ['Jattu Engineer' 'Amardeep Insan'] ['Half Girlfriend (film)' 'Shraddha Kapoor'] ['Meri Pyaari Bindu' 'Ayushmann Khurrana'] ['Sachin: A Billion Dreams' 'Sachin Tendulkar'] ['Hindi Medium' 'Irrfan Khan'] ['Sweetiee Weds NRI' 'Himansh Kohli'] ['Dobaara: See Your Evil' 'Adil Hussain'] ['Flat 211' 'Jayesh Raj'] ['Dear Maya' 'Manisha Koirala'] ['Raabta (film)' 'Deepika Padukone'] ['Behen Hogi Teri' 'Rajkummar Rao'] ['Tubelight (2017 Hindi film)' 'Salman Khan'] ['Bank Chor' 'Riteish Deshmukh'] ['Ek Haseena Thi Ek Deewana Tha' 'Shiv Darshan'] ['Jagga Jasoos' 'Ranbir Kapoor'] ['Shab (film)' 'Ashish Bisht'] ['Lipstick Under My Burkha' 'Aahana Kumra'] ['Bachche Kachche Sachche' 'Manoj Babani'] ['G Kutta Se' 'Rajveer Ankur Singh'] ['Indu Sarkar' 'Kirti Kulhari'] ['Jab Harry Met Sejal' 'Shah Rukh Khan'] ['Munna Michael' 'Tiger Shroff'] ['Toilet: Ek Prem Katha' 'Akshay Kumar'] ['Mubarakan' 'Anil Kapoor'] ['Guest iin London' 'Kartik Aaryan'] ['Bareilly Ki Barfi' 'Ayushmann Khurrana'] ['Babumoshai Bandookbaaz' 'Nawazuddin Siddiqui'] ['Yadvi – The Dignified Princess' 'Prisha Aneja'] ['Qaidi Band' 'Aadar Jain'] ['Shubh Mangal Saavdhan' 'Ayushmann Khurrana'] ['Raag Desh (film)' 'Kunal Kapoor'] ['Daddy (2017 film)' 'Arjun Rampal'] ['Simran (film)' 'Kangana Ranaut'] ['Lucknow Central' 'Farhan Akhtar'] ['A Gentleman' 'Sidharth Malhotra'] [\"Viceroy's House (film)\" 'Hugh Bonneville'] ['Patel Ki Punjabi Shaadi' 'Rishi Kapoor'] ['Newton (film)' 'Rajkummar Rao'] ['The Final Exit' 'Kunaal Roy Kapur'] ['Bhoomi (film)' 'Sunny Leone'] ['Haseena Parkar' 'Shraddha Kapoor'] ['JD (film)' 'Rina Charaniya'] ['Haraamkhor' 'Nawazuddin Siddiqui'] ['Poster Boys' 'Sunny Deol'] ['Mom (film)' 'Sridevi'] ['Chef (2017 film)' 'Saif Ali Khan'] ['Ranchi Diaries' 'Soundarya Sharma'] ['Babuji Ek Ticket Bambai' 'Sudha Chandran'] ['Rukh (film)' 'Manoj Bajpayee'] ['Secret Superstar' 'Zaira Wasim'] ['Aval (2017 film)' 'Prakash Belawadi'] ['Ribbon (film)' 'Kalki Koechlin'] ['Shaadi Mein Zaroor Aana' 'Rajkummar Rao'] ['Jia Aur Jia' 'Richa Chadha'] ['Qarib Qarib Singlle' 'Irrfan Khan'] ['Aksar 2' 'Zareen Khan'] ['Panchlait' 'Nayna Bandhopadhyay'] ['Tumhari Sulu' 'Vidya Balan'] ['Julie 2' 'Nishikant Kamat'] ['Kadvi Hawa' 'Sanjay Mishra'] ['Firangi' 'Kapil Sharma'] ['Fukrey Returns' 'Pulkit Samrat'] ['Monsoon Shootout' 'Vijay Varma'] ['Ajji' 'Sushama Deshpande'] ['Chalk n Duster' 'Richa Chadha'] ['Rebellious Flower' 'Prince Shah'] ['Saankal' 'Tanima Bhattacharya'] ['Airlift (film)' 'Akshay Kumar'] ['Sallu Ki Shaadi' 'Zeenat Aman'] ['Irudhi Suttru' 'Madhavan'] ['Kyaa Kool Hain Hum 3' 'Tusshar Kapoor'] ['Mastizaade' 'Tusshar Kapoor'] ['Dil Jo Na Keh Saka' 'Himansh Kohli'] ['Jugni (2016 film)' 'Sadhana Singh'] ['Ghayal: Once Again' 'Sunny Deol'] ['Fitoor' 'Aditya Roy Kapoor'] ['Sanam Re' 'Rishi Kapoor'] ['Direct Ishq' 'Rajniesh Duggall'] ['Ishq Forever' 'Krishna Chaturvedi'] ['Loveshhuda' 'Girish Taurani'] ['Neerja' 'Sonam Kapoor'] ['Aligarh (film)' 'Sukhesh Arora'] ['Bollywood Diaries' 'Raima Sen'] ['Love Shagun' 'Anuj Sachdeva'] ['Tere Bin Laden: Dead or Alive' 'Parthaa Akerkar'] ['Jai Gangaajal' 'Priyanka Chopra'] ['Kapoor & Sons' 'Sidharth Malhotra'] ['Rocky Handsome' 'John Abraham'] ['Love Games (film)' 'Patralekhaa Paul'] ['Fan (film)' 'Shah Rukh Khan'] ['Nil Battey Sannata' 'Swara Bhaskar'] ['Laal Rang' 'Randeep Hooda'] ['Baaghi (2016 film)' 'Shraddha Kapoor'] ['Global Baba' 'Pankaj Tripathi'] ['Shortcut Safari' 'Jimmy Sheirgill'] ['The Blueberry Hunt' 'Kartik Elangovan'] ['Santa Banta Pvt Ltd' 'Boman Irani'] ['Traffic (2016 film)' 'Manoj Bajpayee'] ['1920: London' 'Sharman Joshi'] ['Azhar (film)' 'Emraan Hashmi'] ['Buddha in a Traffic Jam' 'Aanchal Dwivedi'] ['Murari the Mad Gentleman' 'Sanjay Singh'] ['Dear Dad (film)' 'Arvind Swamy'] ['Phobia (2016 film)' 'Radhika Apte'] ['Sarbjit (film)' 'Randeep Hooda'] ['Veerappan (2016 film)' 'Sachiin Joshi'] ['Do Lafzon Ki Kahani (film)' 'Kajal Aggarwal'] ['Te3n' 'Amitabh Bachchan'] ['Udta Punjab' 'Shahid Kapoor'] ['Khel Toh Ab Shuru Hoga' 'Hazel Croney'] ['Luv U Alia' 'V. Ravichandran'] ['7 Hours to Go' 'Vipin Sharma'] ['Raman Raghav 2.0' 'Nawazuddin Siddiqui'] ['Junooniyat' 'Pulkit Samrat'] ['Rough Book' 'Tannishtha Chatterjee'] ['Dhanak' 'Krrish Chhabria'] ['Fredrick (film)' 'Avinash Dhyani'] ['Dil Toh Deewana Hai' 'Zeenat Aman'] ['Sultan (2016 film)' 'Salman Khan'] ['Brahman Naman' 'Shashank Arora'] ['Great Grand Masti' 'Urvashi Rautela'] ['Waiting (2015 film)' 'Naseeruddin Shah'] ['Ishq Click' 'Sara Loren'] ['M Cream' 'Tom Alter'] ['Madaari' 'Irrfan Khan'] ['Dishoom' 'John Abraham'] ['Fever (2016 film)' 'Rajeev Khandelwal'] ['Rustom (film)' \"Ileana D'Cruz\"] ['Hai Apna Dil Toh Awara' 'Sahil Anand'] ['Mohenjo Daro (film)' 'Hrithik Roshan'] ['Happy Bhag Jayegi' 'Diana Penty'] ['Waarrior Savitri' 'Niharica Raizada'] ['A Flying Jatt' 'Tiger Shroff'] ['Baar Baar Dekho' 'Sidharth Malhotra'] ['Freaky Ali' 'Nawazuddin Siddiqui'] ['Raaz: Reboot' 'Emraan Hashmi'] ['Pink (2016 film)' 'Taapsee Pannu'] ['Parched' 'Tannishtha Chatterjee'] ['Banjo (2016 film)' 'Riteish Deshmukh'] ['Days of Tafree' 'Yash Soni'] ['Wah Taj' 'Shreyas Talpade'] ['Island City (2015 film)' 'Vinay Pathak'] ['Ek Kahani Julie Ki' 'Jimmy Sharma'] ['M.S. Dhoni: The Untold Story' 'Sushant Singh Rajput'] ['MSG: The Warrior Lion Heart' 'Ashok Insan'] ['Devi (2016 film)' 'RJ Balaji'] ['Motu Patlu: King of Kings' 'Saurav Chakraborty'] ['Anna (2016 film)' 'Shashank Udapurkar'] ['Fuddu' 'Shubham'] ['Saat Uchakkey' 'Manoj Bajpayee'] ['Beiimaan Love' 'Sunny Leone'] ['Umrika' 'Aashish Bhatt'] ['Shivaay' 'Ajay Devgn'] ['Dongari Ka Raja' 'Ronit Roy'] ['Ae Dil Hai Mushkil' 'Ranbir Kapoor'] ['Tum Bin II' 'Neha Sharma'] ['Rock On 2' 'Farhan Akhtar'] ['Force 2' 'John Abraham'] ['Dear Zindagi' 'Alia Bhatt'] ['Befikre' 'Vaani Kapoor'] ['Moh Maya Money' 'Neha Dhupia'] ['Shorgul' 'Jimmy Sheirgill'] ['Saansein' 'Sonarika Bhadoria'] ['Ki & Ka' 'Amitabh Bachchan'] ['Wajah Tum Ho' 'Sharman Joshi'] ['Dangal (film)' 'Aamir Khan'] ['Mirzya (film)' 'Harshvardhan Kapoor'] ['Prem Ratan Dhan Payo' 'Salman Khan'] ['Tanu Weds Manu: Returns' 'Kangana Ranaut'] ['Tanu Weds Manu: Returns' 'Kangana Ranaut'] ['31st October (film)' 'Soha Ali Khan'] ['ABCD 2' 'Prabhu Deva'] ['Dilwale (2015 film)' 'Shah Rukh Khan'] ['Bajrangi Bhaijaan' 'Salman Khan'] ['Bajirao Mastani' 'Ranveer Singh'] ['Welcome Back (film)' 'Anil Kapoor'] ['Baby (2015 Hindi film)' 'Akshay Kumar'] ['Singh Is Bliing' 'Akshay Kumar'] ['Gabbar Is Back' 'Akshay Kumar'] ['Gabbar Is Back' 'Akshay Kumar'] ['Mumbai Can Dance Saala' 'Shakti Kapoor'] ['Alone (2015 Hindi film)' 'Bipasha Basu'] ['Tevar' 'Arjun Kapoor'] ['Sharafat Gayi Tel Lene' 'Zayed Khan'] ['Dolly Ki Doli' 'Malaika Arora'] ['Hawaizaada' 'Naman Jain'] ['Khamoshiyan' 'Gurmeet Choudhary'] ['Rahasya' 'Kay Kay Menon'] ['Jai Jawaan Jai Kisaan (film)' 'Rati Agnihotri'] ['Shamitabh' 'Amitabh Bachchan'] ['Roy (film)' 'Arjun Rampal'] ['Badlapur (film)' 'Varun Dhawan'] ['Crazy Cukkad Family' 'Swanand Kirkire'] ['Take It Easy (2015 film)' 'Sulabha Arya'] ['Qissa (film)' 'Irrfan Khan'] ['Ab Tak Chhappan 2' 'Nana Patekar'] ['Dum Laga Ke Haisha' 'Ayushmann Khurrana'] ['Dirty Politics (film)' 'Anupam Kher'] ['MSG: The Messenger' 'Gurmeet Ram Rahim Singh'] ['Badmashiyaan' 'Sidhant Gupta'] ['Coffee Bloom' 'Arjun Mathur'] ['Hey Bro' 'Ganesh Acharya'] ['NH10 (film)' 'Anushka Sharma'] ['Hunterrr' 'Gulshan Devaiah'] ['Detective Byomkesh Bakshy!' 'Sushant Singh Rajput'] ['Luckhnowi Ishq' 'Adhyayan Suman'] ['Court (film)' 'Vira Sathidar'] ['Margarita with a Straw' 'Kalki Koechlin'] ['Ek Paheli Leela' 'Sunny Leone'] ['Barkhaa' 'Sara Loren'] ['Mr. X (2015 film)' 'Emraan Hashmi'] ['NH-8 Road to Nidhivan' 'Auroshika Dey'] ['Dilliwali Zaalim Girlfriend' 'Ira Dubey'] ['Dharam Sankat Mein' 'Naseeruddin Shah'] ['Kaagaz Ke Fools' 'Vinay Pathak'] ['Kuch Kuch Locha Hai' 'Ram Kapoor'] ['Piku' 'Deepika Padukone'] ['Bombay Velvet' 'Ranbir Kapoor'] ['I Love Desi' 'Shakti Anand'] ['Dil Dhadakne Do' 'Anil Kapoor'] ['Welcome 2 Karachi' 'Arshad Warsi'] ['P Se PM Tak' 'Meenakshi Dixit'] ['Mere Genie Uncle' 'Yash Acharya'] ['Hamari Adhuri Kahani' 'Rajkummar Rao'] ['Miss Tanakpur Haazir Ho' 'Rahul Bagga'] ['Uvaa' 'Mohit Baghel'] ['Ishq Ke Parindey' 'Rishi Verma'] ['Ishqedarriyaan' 'Mimoh Chakraborty'] ['Sabki Bajegi Band' 'Swara Bhaskar'] ['Masaan' 'Richa Chadha'] ['Guddu Rangeela' 'Arshad Warsi'] ['Bezubaan Ishq' 'Mugdha Godse'] ['Aisa Yeh Jahaan' 'Yashpal Sharma'] ['Second Hand Husband' 'Dharmendra'] ['I Love NY (2015 film)' 'Sunny Deol'] ['Main Hoon Part-Time Killer' 'Smitha Gondkar'] ['Kaun Kitne Paani Mein' 'Kunal Kapoor'] ['Drishyam (2015 film)' 'Ajay Devgn'] ['Bangistan' 'Jacqueline Fernandez'] ['All Is Well (2015 film)' 'Rishi Kapoor'] ['Brothers (2015 film)' 'Akshay Kumar'] ['Gour Hari Dastaan' 'Vinay Pathak'] ['Manjhi – The Mountain Man' 'Nawazuddin Siddiqui'] ['Thoda Lutf Thoda Ishq' 'Bhavita Anand'] ['Phantom (2015 film)' 'Saif Ali Khan'] ['Hero (2015 Hindi film)' 'Suraj Pancholi'] ['Sorry Daddy' 'Shamim Khan'] ['Talvar (film)' 'Irrfan Khan'] ['Katti Batti' 'Suhaas Ahuja'] ['Meeruthiya Gangsters' 'Jaideep Ahlawat'] ['MSG-2 The Messenger' 'Charanpreet Insan'] ['Calendar Girls (2015 film)' 'Akanksha Puri'] ['Bhaag Johnny' 'Kunal Khemu'] ['Jazbaa' 'Aishwarya Rai Bachchan'] ['Bumper Draw' 'Seema Azmi'] ['Chinar Daastaan-E-Ishq' 'Parveen Kaur'] ['Kis Kisko Pyaar Karoon' 'Kapil Sharma'] ['Pyaar Ka Punchnama 2' 'Kartik Aaryan'] ['Wedding Pullav' 'Diganth'] ['Shaandaar' 'Shahid Kapoor'] ['Titli (2014 film)' 'Nawazuddin Siddiqui'] ['Guddu Ki Gun' 'Kunal Khemu'] ['The Silent Heroes' 'Mann Bagga'] ['Ranbanka' 'Manish Paul'] ['Sholay' 'Sanjeev Kumar'] ['Dedh Ishqiya' 'Madhuri Dixit'] ['Karle Pyaar Karle' 'Shiv Darshan'] ['Om-Dar-B-Dar' 'Gopi Desai'] ['Paranthe Wali Gali' 'Mohinder Gujral'] ['Strings of Passion' 'Zeenat Aman'] ['Gunday' 'Ranveer Singh'] ['Jai Ho (film)' 'Salman Khan'] ['Hasee Toh Phasee' 'Sidharth Malhotra'] ['Heartless (2014 film)' 'Adhyayan Suman'] ['Ya Rab' 'Indrapal Ahuja'] ['Darr @ the Mall' 'Jimmy Sheirgill'] ['One by Two (2014 film)' 'Abhay Deol'] ['Babloo Happy Hai' 'Sahil Anand'] ['Highway (2014 Hindi film)' 'Alia Bhatt'] ['Gulabi Gang (film)' 'Sampat Pal Devi'] ['Shaadi Ke Side Effects' 'Farhan Akhtar'] ['Gulaab Gang' 'Madhuri Dixit'] ['Queen (2014 film)' 'Kangana Ranaut'] ['Bewakoofiyaan' 'Ayushmann Khurrana'] ['Total Siyapaa' 'Ali Zafar'] ['Karar: The Deal' 'Mahek Chahal'] ['Lakshmi (2014 film)' 'Monali Thakur'] ['Ragini MMS 2' 'Sunny Leone'] ['Dishkiyaoon' 'Harman Baweja'] ['Ankhon Dekhi' 'Sanjay Mishra'] ['Gang of Ghosts' 'Sharman Joshi'] ['Anuradha (2014 film)' 'Sachin Khedekar'] ['W (2014 film)' 'Leeza Mangaldas'] ['O Teri' 'Pulkit Samrat'] ['Honour Killing (film)' 'Zara Sheikh'] ['2 States (2014 film)' 'Arjun Kapoor'] ['Jal (film)' 'Purab Kohli'] ['Bhoothnath Returns' 'Amitabh Bachchan'] ['Main Tera Hero' 'Varun Dhawan'] ['Lucky Kabootar' 'Arvinder Bhatti'] ['Station (2014 film)' 'Kanika Batra'] ['Youngistaan' 'Jackky Bhagnani'] ['Samrat & Co.' 'Rajeev Khandelwal'] ['Purani Jeans' 'Tanuj Virwani'] ['Kya Dilli Kya Lahore' 'Vijay Raaz'] ['Koyelaanchal' 'Kannan Arunachalam'] ['Manjunath (film)' 'Anjori Alagh'] ['Dekh Tamasha Dekh' 'Satish Kaushik'] ['Mastram' 'Rahul Bagga'] ['The Xposé' 'Himesh Reshammiya'] ['Children of War (2014 film)' 'Farooq Shaikh'] ['Hawaa Hawaai' 'Makrand Deshpande'] ['Kahin Hai Mera Pyar' 'Eesha Agarwal'] ['Kuku Mathur Ki Jhand Ho Gayi' 'Siddharth Gupta'] ['Heropanti' 'Tiger Shroff'] ['CityLights (2014 film)' 'Rajkummar Rao'] ['Filmistaan' 'Sharib Hashmi'] ['Revolver Rani' 'Kangana Ranaut'] ['Kaanchi: The Unbreakable' 'Kartik Aaryan'] ['Machhli Jal Ki Rani Hai' 'Swara Bhaskar'] ['Khwaabb' 'Simer Motiani'] ['Yeh Hai Bakrapur' 'Anshuman Jha'] ['Ek Villain' 'Sidharth Malhotra'] ['Bobby Jasoos' 'Vidya Balan'] ['Humshakals' 'Saif Ali Khan'] ['Humpty Sharma Ki Dulhania' 'Varun Dhawan'] ['Hate Story 2' 'Jay Bhanushali'] ['Lekar Hum Deewana Dil' 'Armaan Jain'] ['Riyasat (film)' 'Rajesh Khanna'] ['Amit Sahni Ki List' 'Vir Das'] ['Holiday: A Soldier Is Never Off Duty' 'Akshay Kumar'] ['Fugly (film)' 'Jimmy Sheirgill'] ['Bazaar E Husn' 'Reshmi Ghosh'] ['Pizza (2014 film)' 'Akshay Oberoi'] ['Entertainment (2014 film)' 'Akshay Kumar'] ['Singham Returns' 'Anupam Kher'] ['Mardaani' 'Rani Mukerji'] ['Raja Natwarlal' 'Emraan Hashmi'] ['Mary Kom (film)' 'Priyanka Chopra'] ['Creature 3D' 'Bipasha Basu'] ['Finding Fanny' 'Deepika Padukone'] ['Khoobsurat (2014 film)' 'Sonam Kapoor'] ['3 A.M. (2014 film)' 'Salil Acharya'] ['Kick (2014 film)' 'Salman Khan'] ['Mad About Dance' 'Saahil Prem'] ['Mumbhai Connection' 'Alieesa P Badresia'] ['Life Is Beautiful (2014 film)' 'Manoj Amarnani'] ['Desi Kattey' 'Sasha Aagha'] ['Haider (film)' 'Tabu'] ['Bang Bang!' 'Hrithik Roshan'] ['Spark (2014 film)' 'Rati Agnihotri'] ['Daawat-e-Ishq' 'Aditya Roy Kapoor'] ['Balwinder Singh Famous Ho Gaya' 'Asrani'] ['Jigariyaa' 'Harshvardhan Deo'] ['Tamanchey' 'Nikhil Dwivedi'] ['Mumbai 125 KM' 'Karanvir Bohra'] ['Meinu Ek Ladki Chaahiye' 'Puru Chibber'] ['Chaarfutiya Chhokare' 'Soha Ali Khan'] ['Sonali Cable' 'Rhea Chakraborty'] ['Happy New Year (2014 film)' 'Shah Rukh Khan'] ['Super Nani' 'Rekha'] ['Ekkees Toppon Ki Salaami' 'Anupam Kher'] ['Rang Rasiya' 'Randeep Hooda'] ['The Shaukeens' 'Akshay Kumar'] ['Roar: Tigers of the Sundarbans' 'Aadil Chahal'] ['A Decent Arrangement' 'Shabana Azmi'] ['Gollu Aur Pappu' 'Dimple Kapadia'] ['Titoo MBA' 'Nishant Dahiya'] ['Kill Dil' 'Ranveer Singh'] ['Ungli' 'Emraan Hashmi'] ['Happy Ending (film)' 'Saif Ali Khan'] ['Zed Plus' 'Vinod Acharya'] ['Zid (2014 film)' 'Mannara Chopra'] ['Action Jackson (2014 film)' 'Prabhas'] ['Bhopal: A Prayer for Rain' 'Mischa Barton'] ['Mumbai Delhi Mumbai' 'Shiv Panditt'] ['Badlapur Boys' 'Annu Kapoor'] ['Main Aur Mr. Riight' 'Barun Sobti'] ['Ugly (film)' 'Rahul Bhat'] ['PK (film)' 'Aamir Khan'] ['Dehraadun Diary' 'Adhyayan Suman'] ['Matru Ki Bijlee Ka Mandola' 'Imran Khan'] ['Sulemani Keeda' 'Naveen Kasturia'] ['Inkaar (2013 film)' 'Arjun Rampal'] ['Gangoobai' 'Sarita Joshi'] ['Akaash Vani' 'Kartik Aaryan'] ['Main Krishna Hoon' 'Juhi Chawla'] ['Race 2' 'Saif Ali Khan'] ['Bandook' 'Manisha Kelkar'] ['Listen... Amaya' 'Farooq Shaikh'] ['Special 26' 'Akshay Kumar'] ['Murder 3' 'Randeep Hooda'] ['Zila Ghaziabad' 'Vivek Oberoi'] ['Kai Po Che!' 'Rajkummar Rao'] ['Bloody Isshq' 'Akash'] ['Saare Jahaan Se Mehnga' 'Vishwa Mohan Badola'] ['3G (film)' 'Neil Nitin Mukesh'] ['Mere Dad Ki Maruti' 'Saqib Saleem'] ['Jolly LLB' 'Arshad Warsi'] ['Saheb Biwi Aur Gangster Returns' 'Jimmy Sheirgill'] ['Mai (2013 film)' 'Asha Bhosle'] ['Vishwaroopam' 'Kamal Haasan'] ['Rangrezz' 'Jackky Bhagnani'] ['Aashiqui 2' 'Aditya Roy Kapoor'] ['Ek Thi Daayan' 'Emraan Hashmi'] ['Himmatwala (2013 film)' 'Ajay Devgn'] ['Nautanki Saala!' 'Ayushmann Khurrana'] ['Jayantabhai Ki Luv Story' 'Vivek Oberoi'] ['Commando: A One Man Army' 'Vidyut Jammwal'] ['Bombay Talkies (film)' 'Rani Mukerji'] ['Go Goa Gone' 'Saif Ali Khan'] ['Gippi' 'Riya Vij'] ['Aurangzeb (film)' 'Arjun Kapoor'] ['Ishkq in Paris' 'Preity Zinta'] ['Zindagi 50-50' 'Veena Malik'] ['Yeh Jawaani Hai Deewani' 'Ranbir Kapoor'] ['Fukrey' 'Pulkit Samrat'] ['Chhota Bheem and the Throne of Bali' 'Rupa Bhimani'] ['Raanjhanaa' 'Dhanush'] ['Ankur Arora Murder Case' 'Kay Kay Menon'] ['Shortcut Romeo' 'Neil Nitin Mukesh'] ['Ghanchakkar (film)' 'Vidya Balan'] ['Hum Hai Raahi Car Ke' 'Anupam Kher'] ['Policegiri' 'Sanjay Dutt'] ['Bhaag Milkha Bhaag' 'Farhan Akhtar'] ['Sixteen (2013 Indian film)' 'Wamiqa Gabbi'] ['B.A. Pass' 'Shadab Kamal'] ['Enemmy' 'Sunil Shetty'] ['Issaq' 'Prateik'] ['Bajatey Raho' 'Tusshar Kapoor'] ['Luv U Soniyo' 'Tanuj Virwani'] ['Nasha (film)' 'Poonam Pandey'] ['Chor Chor Super Chor' 'Deepak Dobriyal'] ['Calapor (film)' 'Hemant Gopal'] ['Love in Bombay' 'Joy Mukherjee'] ['D-Day (2013 film)' 'Rishi Kapoor'] ['Siddharth (2013 film)' 'Rajesh Tailang'] ['Once Upon ay Time in Mumbai Dobaara!' 'Akshay Kumar'] ['Madras Cafe' 'John Abraham'] ['Satyagraha (film)' 'Amitabh Bachchan'] ['Shuddh Desi Romance' 'Sushant Singh Rajput'] ['Ramaiya Vastavaiya' 'Shruti Haasan'] ['Chennai Express' 'Deepika Padukone'] ['Grand Masti' 'Vivek Oberoi'] ['John Day (film)' 'Naseeruddin Shah'] ['Horror Story (film)' 'Karan Kundrra'] ['Phata Poster Nikhla Hero' 'Shahid Kapoor'] ['Ship of Theseus (film)' 'Aida Elkashef'] ['The Lunchbox' 'Irrfan Khan'] ['Baat Bann Gayi' 'Anisa Butt'] ['Boss (2013 Hindi film)' 'Akshay Kumar'] ['Shahid (film)' 'Rajkummar Rao'] ['Mickey Virus' 'Manish Paul'] ['Satya 2' 'Puneet Singh Ratn'] ['Rajjo' 'Kangana Ranaut'] ['Maazii' 'Sumit Nijhawan'] ['Sooper Se Ooper' 'Tinnu Anand'] ['Prague (2013 film)' 'Chandan Roy Sanyal'] ['Wake Up India' 'Elisha Kriis'] ['Super Model (film)' 'Ashmit Patel'] ['Gori Tere Pyaar Mein' 'Imran Khan'] ['What the Fish' 'Manu Rishi Chadha'] ['Jackpot (2013 film)' 'Naseeruddin Shah'] ['Table No. 21' 'Paresh Rawal'] ['Bullett Raja' 'Saif Ali Khan'] ['Dhoom 3' 'Aamir Khan'] ['Chashme Baddoor (2013 film)' 'Ali Zafar'] ['Lootera' 'Ranveer Singh'] ['War Chhod Na Yaar' 'Sharman Joshi'] ['Chaalis Chauraasi' 'Naseeruddin Shah'] ['Ghost (2012 film)' 'Shiney Ahuja'] ['Sadda Adda' 'Karan Sharma'] ['Singh Saab the Great' 'Sunny Deol'] ['Goliyon Ki Raasleela Ram-Leela' 'Ranveer Singh'] ['Agneepath (2012 film)' 'Hrithik Roshan'] ['Ek Main Aur Ekk Tu' 'Kareena Kapoor'] ['Ekk Deewana Tha' 'Prateik'] ['?: A Question Mark' 'Kiran Bhatia'] ['Jodi Breakers' 'Bipasha Basu'] ['Tere Naal Love Ho Gaya' 'Riteish Deshmukh'] ['Staying Alive (2012 film)' 'Jahangir Khan'] ['Paan Singh Tomar (film)' 'Irrfan Khan'] ['Kahaani' 'Vidya Balan'] ['Zindagi Tere Naam' 'Mithun Chakraborty'] ['Agent Vinod (2012 film)' 'Kareena Kapoor'] ['Blood Money (2012 film)' 'Manish Chaudhary'] ['Bumboo' 'Kavin Dave'] [\"Valentine's Night\" 'Shikhi Gupta'] ['Married 2 America' 'Archana Joglekar'] ['Chaar Din Ki Chandni' 'Tusshar Kapoor'] ['Bittoo Boss' 'Pulkit Samrat'] ['Vicky Donor' 'Ayushmann Khurrana'] ['Hate Story' 'Nikhil Dwivedi'] ['Tezz' 'Anil Kapoor'] ['Dangerous Ishhq' 'Karisma Kapoor'] ['Ishaqzaade' 'Arjun Kapoor'] ['Department (film)' 'Sanjay Dutt'] ['Fatso!' 'Gul Panag'] ['Arjun: The Warrior Prince' 'Yudhveer Bakoliya'] ['Life Ki Toh Lag Gayi' 'Kay Kay Menon'] ['Shanghai (2012 film)' 'Emraan Hashmi'] ['Ferrari Ki Sawaari' 'Sharman Joshi'] ['Teri Meri Kahaani (film)' 'Shahid Kapoor'] ['Mr. Bhatti on Chutti' 'Anupam Kher'] ['Yeh Khula Aasmaan' 'Anya Anand'] ['Rakhtbeej' 'Julia Datt'] ['Gangs of Wasseypur' 'Manoj Bajpayee'] ['Gangs of Wasseypur – Part 2' 'Manoj Bajpayee'] ['Cocktail (2012 film)' 'Saif Ali Khan'] ['Gattu' 'Naresh Sharma'] ['Kyaa Super Kool Hain Hum' 'Riteish Deshmukh'] ['Maximum (film)' 'Sonu Sood'] ['Paanch Ghantey Mien Paanch Crore' 'Nassar Abdulla'] ['Ek Tha Tiger' 'Salman Khan'] ['Challo Driver' 'Vickrant Mahajan'] ['Shirin Farhad Ki Toh Nikal Padi' 'Freny Bhagat'] ['Joker (2012 film)' 'Akshay Kumar'] ['Aalaap (film)' 'Omkar Das Manikpuri'] ['Mere Dost Picture Abhi Baki Hai' 'Sunil Shetty'] ['Krishna Aur Kans' 'Manoj Bajpayee'] ['From Sydney with Love' 'Bidita Bag'] ['Jalpari: The Desert Mermaid' 'Harish Chabbra'] ['Barfi!' 'Ranbir Kapoor'] ['Heroine (2012 film)' 'Kareena Kapoor'] ['Chal Pichchur Banate Hain' 'Sagar Bhangade'] ['Kismat Love Paisa Dilli' 'Vivek Oberoi'] ['Jeena Hai Toh Thok Daal' 'Ravi Kishan'] ['OMG – Oh My God!' 'Paresh Rawal'] ['Aiyyaa' 'Rani Mukerji'] ['Chittagong (film)' 'Manoj Bajpayee'] ['Bhoot Returns' 'J.D. Chakravarthi'] ['Delhi Safari' 'Cary Elwes'] ['Chakravyuh (2012 film)' 'Arjun Rampal'] ['Student of the Year' 'Alia Bhatt'] ['Ajab Gazabb Love' 'Jackky Bhagnani'] ['Rush (2012 film)' 'Emraan Hashmi'] ['1920: The Evil Returns' 'Vicky Ahuja'] ['Sons of Ram' 'Sunidhi Chauhan'] ['Ata Pata Laapata' 'Asrani'] ['Jab Tak Hai Jaan' 'Shah Rukh Khan'] ['Talaash: The Answer Lies Within' 'Aamir Khan'] ['Login (film)' 'Himanshu Bhatt'] ['Son of Sardaar' 'Ajay Devgn'] ['Cigarette Ki Tarah' 'Ashok Banthia'] ['Dabangg 2' 'Salman Khan'] ['Players (2012 film)' 'Vinod Khanna'] ['Housefull 2' 'Akshay Kumar'] ['Bol Bachchan' 'Amitabh Bachchan'] ['English Vinglish' 'Sridevi'] ['Impatient Vivek' 'Vivek Sudershan'] ['Yamla Pagla Deewana' 'Nafisa Ali'] ['Mumbai Mast Kallander' 'Mohsin'] ['Dhobi Ghat (film)' 'Prateik'] ['Turning 30' 'Gul Panag'] ['Hostel (2011 film)' 'Vatsal Sheth'] ['Dil Toh Baccha Hai Ji' 'Ajay Devgn'] ['United Six' 'Russell Geoffrey Banks'] ['Utt Pataang' 'Vinay Pathak'] ['Patiala House (film)' 'Rishi Kapoor'] ['7 Khoon Maaf' 'Priyanka Chopra'] ['Tanu Weds Manu' 'Madhavan'] ['F.A.L.T.U' 'Arshad Warsi'] ['Memories in March' 'Deepti Naval'] ['Thank You (2011 film)' 'Akshay Kumar'] ['Angel (2011 film)' 'Sumit Arora'] ['Happy Husbands (2011 film)' 'Anay'] ['Teen Thay Bhai' 'Om Puri'] ['Dum Maaro Dum (film)' 'Abhishek Bachchan'] ['Shor in the City' 'Sendhil Ramamurthy'] ['Zokkomon' 'Darsheel Safary'] ['Chalo Dilli' 'Vinay Pathak'] ['Aashiqui.in' 'Ishaan Manhaas'] ['Satrangee Parachute' 'Sanjay Mishra'] ['Monica (film)' 'Ashutosh Rana'] ['I Am (2010 Indian film)' 'Juhi Chawla'] ['Naughty @ 40' 'Govinda'] ['Haunted – 3D' 'Mimoh Chakraborty'] ['Love U...Mr. Kalakaar!' 'Tusshar Kapoor'] ['Ragini MMS' 'Kainaz Motivala'] ['Stanley Ka Dabba' 'Partho A. Gupte'] ['Shagird (2011 film)' 'Nana Patekar'] ['404 (film)' 'Sara Arjun'] ['Shaitan (film)' 'Kalki Koechlin'] ['Pyaar Ka Punchnama' 'Kartik Aaryan'] ['Bheja Fry 2' 'Vinay Pathak'] ['Always Kabhi Kabhi' 'Lillete Dubey'] ['Double Dhamaal' 'Sanjay Dutt'] ['Bbuddah... Hoga Terra Baap' 'Amitabh Bachchan'] ['Delhi Belly (film)' 'Imran Khan'] ['Murder 2' 'Emraan Hashmi'] ['Chillar Party' 'Aarav Khanna'] ['Zindagi Na Milegi Dobara' 'Hrithik Roshan'] ['Dear Friend Hitler' 'Raghuvir Yadav'] ['I Am Kalam' 'Gulshan Grover'] ['Bin Bulaye Baraati' 'Naushaad Abbas'] ['Kucch Luv Jaisaa' 'Shefali Shah'] ['Singham' 'Ajay Devgn'] ['Khap (film)' 'Rahul Jaiswal'] ['Bubble Gum (film)' 'Apoorva Arora'] ['Shabri' 'Isha Koppikar'] ['Phhir' 'Rajniesh Duggall'] ['Aarakshan' 'Amitabh Bachchan'] ['Chatur Singh Two Star' 'Sanjay Dutt'] ['Sahi Dhandhe Galat Bande' 'Anupam Kher'] ['Bodyguard (2011 Hindi film)' 'Salman Khan'] ['Yeh Dooriyan' 'Deepshika Nagpal'] ['Not a Love Story (2011 film)' 'Deepak Dobriyal'] ['Hum Tum Shabana' 'Tusshar Kapoor'] ['Mummy Punjabi' 'Kiron Kher'] ['Mere Brother Ki Dulhan' 'Imran Khan'] ['Mausam (2011 film)' 'Shahid Kapoor'] ['U R My Jaan' 'Mikaal'] ['Force (2011 film)' 'John Abraham'] ['Saheb Biwi Aur Gangster' 'Jimmy Sheirgill'] ['Tere Mere Phere' 'Vinay Pathak'] ['Breakaway (2011 film)' 'Vinay Virmani'] ['Chargesheet (film)' 'Dev Anand'] ['Love Breakups Zindagi' 'Zayed Khan'] ['Mujhse Fraaandship Karoge' 'Saqib Saleem'] ['Aazaan' 'Sachiin Joshi'] ['Ra.One' 'Shah Rukh Khan'] ['Rockstar (2011 film)' 'Ranbir Kapoor'] ['Miley Naa Miley Hum' 'Chirag Paswan'] ['Tell Me O Kkhuda' 'Dharmendra'] ['Damadamm!' 'Himesh Reshammiya'] ['Ladies vs Ricky Bahl' 'Ranveer Singh'] ['Desi Boyz' 'Akshay Kumar'] ['Game (2011 film)' 'Abhishek Bachchan'] ['No One Killed Jessica' 'Rani Mukerji'] ['Rascals (2011 film)' 'Ajay Devgn'] ['The Dirty Picture' 'Vidya Balan'] ['Pyaar Impossible!' 'Priyanka Chopra'] ['Chance Pe Dance' 'Shahid Kapoor'] ['My Friend Pinto' 'Prateik'] ['Veer (2010 film)' 'Salman Khan'] ['Striker (2010 film)' 'Siddharth'] ['Rann (film)' 'Amitabh Bachchan'] ['Ishqiya' 'Vidya Balan'] ['Road to Sangam' 'Paresh Rawal'] ['Jo Hum Chahein' 'Sunny Gill'] ['Click (2010 film)' 'Shreyas Talpade'] ['Toh Baat Pakki!' 'Tabu'] ['My Name Is Khan' 'Shah Rukh Khan'] ['Teen Patti (film)' 'Amitabh Bachchan'] ['Karthik Calling Karthik' 'Siddhartha Gupta'] ['Don 2' 'Shah Rukh Khan'] ['Rokkk' 'Tanushree Dutta'] ['Aakhari Decision' 'Paul Sidhu'] ['Right Yaaa Wrong' 'Sunny Deol'] ['Sukhmani: Hope for Life' 'Gurdas Maan'] ['Thanks Maa' 'Master Shams'] ['Na Ghar Ke Na Ghaat Ke' 'Om Puri'] ['Trump Card (film)' 'Vikrum Kumar'] ['Shaapit' 'Aditya Narayan'] ['Hum Tum Aur Ghost' 'Arshad Warsi'] ['Well Done Abba' 'Boman Irani'] ['Tum Milo Toh Sahi' 'Nana Patekar'] ['Jaane Kahan Se Aayi Hai' 'Priyanka Chopra'] ['Prem Kaa Game' 'Arbaaz Khan'] ['Sadiyaan' 'Rekha'] ['The Japanese Wife' 'Rahul Bose'] ['Paathshaala' 'Nana Patekar'] ['Phoonk 2' 'Sudeep'] ['Lahore (film)' 'Farooq Shaikh'] ['Apartment (film)' 'Rohit Roy'] ['City of Gold (2010 film)' 'Sachin Khedekar'] ['Chase (2010 film)' 'Anuj Saxena'] ['Housefull (2010 film)' 'Akshay Kumar'] ['Mittal v/s Mittal' 'Hazel Croney'] [\"It's a Wonderful Afterlife\" 'Sanjeev Bhaskar'] ['Prince (2010 film)' 'Vivek Oberoi'] ['Raavan' 'Abhishek Bachchan'] ['Bumm Bumm Bole' 'Atul Kulkarni'] ['Kushti (film)' 'Rajpal Yadav'] ['Kites (film)' 'Hrithik Roshan'] ['Love Sex Aur Dhokha' 'Nushrat Bharucha'] ['Milenge Milenge' 'Kareena Kapoor'] ['Ek Second... Jo Zindagi Badal De?' 'Bhushan Agarwal'] ['Mr. Singh Mrs. Mehta' 'Prashant Narayanan'] ['Lamhaa' 'Sanjay Dutt'] ['Khatta Meetha (2010 film)' 'Akshay Kumar'] ['Tere Bin Laden' 'Ali Zafar'] ['Udaan (2010 film)' 'Rajat Barmecha'] ['Once Upon a Time in Mumbaai' 'Ajay Devgn'] ['Help (film)' 'Bobby Deol'] ['Peepli Live' 'Omkar Das Manikpuri'] ['Lafangey Parindey' 'Neil Nitin Mukesh'] ['Hello Darling' 'Gul Panag'] ['Antardwand' 'Raj Singh Chaudhary'] ['Aashayein' 'John Abraham'] ['Soch Lo' 'Barkha Madan'] ['Dabangg' 'Salman Khan'] ['Khichdi: The Movie' 'Supriya Pathak'] ['Red Alert: The War Within' 'Sunil Shetty'] ['Life Express (2010 film)' 'Rituparna Sengupta'] ['The Film Emotional Atyachar' 'Ranvir Shorey'] ['Hisss' 'Mallika Sherawat'] ['Crook (film)' 'Emraan Hashmi'] ['Do Dooni Chaar' 'Rishi Kapoor'] ['Aakrosh (2010 film)' 'Ajay Devgn'] ['Ramayana: The Epic' 'Manoj Bajpayee'] ['Knock Out (2010 film)' 'Sanjay Dutt'] ['Jhootha Hi Sahi' 'John Abraham'] ['Guzaarish (film)' 'Hrithik Roshan'] ['Allah Ke Banday' 'Varun Bhagwat'] ['Break Ke Baad' 'Deepika Padukone'] ['Khuda Kasam' 'Sunny Deol'] ['Phas Gaye Re Obama' 'Rajat Kapoor'] ['Malik Ek' 'Akanksha'] ['A Flat (film)' 'Jimmy Sheirgill'] ['No Problem (2010 film)' 'Sanjay Dutt'] ['Band Baaja Baaraat' 'Ranveer Singh'] ['Kaalo' 'Aditya Srivastava'] ['Mirch' 'Arunoday Singh'] ['Tees Maar Khan (2010 film)' 'Akshay Kumar'] ['Isi Life Mein' 'Akshay Oberoi'] ['Toonpur Ka Super Hero' 'Ajay Devgn'] ['Tera Kya Hoga Johnny' 'Neil Nitin Mukesh'] ['Ramaa: The Saviour' 'Sahil Khan'] ['I Hate Luv Storys' 'Imran Khan'] ['Dulha Mil Gaya' 'Sushmita Sen'] ['Anjaana Anjaani' 'Priyanka Chopra'] ['Dunno Y... Na Jaane Kyon' 'Zeenat Aman'] ['Pankh' 'Bipasha Basu'] ['Action Replayy' 'Akshay Kumar'] ['3 Idiots' 'Aamir Khan'] ['Luck by Chance' 'Farhan Akhtar'] ['Love Aaj Kal' 'Saif Ali Khan'] ['Wanted (2009 film)' 'Salman Khan'] ['Delhi-6' 'Waheeda Rehman'] ['Raaz: The Mystery Continues' 'Kangana Ranaut'] ['Aasma: The Sky Is the Limit' 'Hrishitaa Bhatt'] ['Ajab Prem Ki Ghazab Kahani' 'Ranbir Kapoor'] ['Chal Chala Chal' 'Asrani'] ['Billu' 'Irrfan Khan'] ['The Stoneman Murders' 'Kay Kay Menon'] ['Kisse Pyaar Karoon' 'Arshad Warsi'] ['Dhoondte Reh Jaaoge' 'Paresh Rawal'] ['Karma Aur Holi' 'Rati Agnihotri'] ['Victory (2009 film)' 'Harman Baweja'] ['Kaminey' 'Shahid Kapoor'] ['Jai Veeru' 'Fardeen Khan'] ['Little Zizou' 'John Abraham'] ['Gulaal (film)' 'Kay Kay Menon'] ['Aloo Chaat (film)' 'Aftab Shivdasani'] ['Barah Aana' 'Naseeruddin Shah'] ['Firaaq' 'Inaamulhaq'] ['Aa Dekhen Zara' 'Neil Nitin Mukesh'] ['99 (2009 film)' 'Kunal Khemu'] ['Ek: The Power of One' 'Bobby Deol'] ['Ek Se Bure Do' 'Anita'] ['Sikandar (2009 film)' 'Parzaan Dastur'] ['Zor Lagaa Ke...Haiya!' 'Meghan Jadhav'] ['Paying Guests' 'Shreyas Talpade'] ['New York (2009 film)' 'John Abraham'] ['Sankat City' 'Kay Kay Menon'] ['Shortkut' 'Sanjay Dutt'] ['Luck (2009 film)' 'Mithun Chakraborty'] ['Life Partner' 'Govinda'] ['Daddy Cool (2009 Hindi film)' 'Sunil Shetty'] ['Kisaan' 'Jackie Shroff'] ['Yeh Mera India' 'Anupam Kher'] ['Aagey Se Right' 'Shreyas Talpade'] ['Chintu Ji' 'Rishi Kapoor'] ['Quick Gun Murugun' 'Rajendra Prasad'] ['Fox (film)' 'Arjun Rampal'] ['Baabarr' 'Mithun Chakraborty'] ['Phir Kabhi' 'Mithun Chakraborty'] ['Vaada Raha' 'Bobby Deol'] ['Dil Bole Hadippa!' 'Shahid Kapoor'] [\"What's Your Raashee?\" 'Harman Baweja'] ['Acid Factory' 'Fardeen Khan'] ['All the Best: Fun Begins' 'Sanjay Dutt'] ['Wake Up Sid' 'Ranbir Kapoor'] ['Main Aurr Mrs Khanna' 'Salman Khan'] ['Blue (2009 film)' 'Akshay Kumar'] ['Fruit and Nut (film)' 'Atmaram Bhende'] ['Aladin (film)' 'Amitabh Bachchan'] ['London Dreams' 'Salman Khan'] ['Jail (2009 film)' 'Manoj Bajpayee'] ['Tum Mile' 'Emraan Hashmi'] ['Kurbaan (2009 film)' 'Lewis Tan'] ['De Dana Dan' 'Akshay Kumar'] ['Paa (film)' 'Amitabh Bachchan'] ['Rocket Singh: Salesman of the Year' 'Ranbir Kapoor'] ['Raat Gayi Baat Gayi?' 'Aamir Bashir'] ['Accident on Hill Road' 'Farooq Shaikh'] ['Chandni Chowk to China' 'Mithun Chakraborty'] ['Dostana (2008 film)' 'Abhishek Bachchan'] ['Race (2008 film)' 'Saif Ali Khan'] ['Rab Ne Bana Di Jodi' 'Shah Rukh Khan'] ['Ghajini (2008 film)' 'Aamir Khan'] ['Singh Is Kinng' 'Akshay Kumar'] ['Golmaal Returns' 'Ajay Devgn'] ['Jodhaa Akbar' 'Hrithik Roshan'] ['Bachna Ae Haseeno' 'Ranbir Kapoor'] ['Bhoothnath' 'Amitabh Bachchan'] ['Sarkar Raj' 'Amitabh Bachchan'] ['Halla Bol' 'Ajay Devgn'] ['Humne Jeena Seekh Liya' 'Omkar Bhatkar'] ['Bombay to Bangkok' 'Shreyas Talpade'] ['Tulsi (film)' 'Manisha Koirala'] ['Sunday (2008 film)' 'Ajay Devgn'] ['One Two Three' 'Tusshar Kapoor'] ['Krazzy 4' 'Juhi Chawla'] ['U Me Aur Hum' 'Ajay Devgn'] ['Sirf (film)' 'Kay Kay Menon'] ['Tashan (film)' 'Akshay Kumar'] ['Anamika (2008 film)' 'Dino Morea'] ['Jimmy (2008 film)' 'Mimoh Chakraborty'] ['Jannat (film)' 'Emraan Hashmi'] ['Don Muthu Swami' 'Mithun Chakraborty'] ['Woodstock Villa' 'Sikander Kher'] ['Mere Baap Pehle Aap' 'Paresh Rawal'] ['Summer 2007' 'Ahraz Ahmed'] ['De Taali' 'Aftab Shivdasani'] ['Haal-e-Dil' 'Amita Pathak'] ['Thodi Life Thoda Magic' 'Saahil Chadha'] ['Thoda Pyaar Thoda Magic' 'Saif Ali Khan'] ['Via Darjeeling' 'Kay Kay Menon'] ['Kismat Konnection' 'Shahid Kapoor'] ['Love Story 2050' 'Harman Baweja'] ['Contract (2008 film)' 'Adhvik Mahajan'] ['Mission Istaanbul' 'Vivek Oberoi'] ['Money Hai Toh Honey Hai' 'Govinda'] ['God Tussi Great Ho' 'Amitabh Bachchan'] ['Mumbai Meri Jaan' 'Paresh Rawal'] ['Maan Gaye Mughal-e-Azam' 'Mallika Sherawat'] ['Rock On!!' 'Arjun Rampal'] ['C Kkompany' 'Tusshar Kapoor'] ['Chamku' 'Bobby Deol'] ['Mukhbiir' 'Sammir Dattani'] ['Tahaan' 'Victor Banerjee'] ['1920 (film)' 'Rajniesh Duggall'] ['The Last Lear' 'Amitabh Bachchan'] ['Welcome to Sajjanpur' 'Shreyas Talpade'] ['Saas Bahu Aur Sensex' 'Kiron Kher'] ['Hari Puttar: A Comedy of Terrors' 'Jackie Shroff'] ['Drona (2008 film)' 'Jayshree Arora'] ['Hello (2008 film)' 'Sharman Joshi'] ['Karzzzz' 'Himesh Reshammiya'] ['Heroes (2008 film)' 'Sohail Khan'] ['Roadside Romeo' 'Saif Ali Khan'] ['Ek Vivaah... Aisa Bhi' 'Isha Koppikar'] ['Deshdrohi' 'Kamal Rashid Khan'] ['Fashion (2008 film)' 'Priyanka Chopra'] ['Dasvidaniya' 'Vinay Pathak'] ['Yuvvraaj' 'Salman Khan'] ['Oye Lucky! Lucky Oye!' 'Abhay Deol'] ['Oh My God (2008 film)' 'Vinay Pathak'] ['Sorry Bhai!' 'Shabana Azmi'] ['1971 (2007 film)' 'Manoj Bajpayee'] ['Meerabai Not Out' 'Anupam Kher'] ['Wafa: A Deadly Love Story' 'Rajesh Khanna'] ['Gumnaam – The Mystery' 'Dino Morea'] ['Dil Kabaddi' 'Irrfan Khan'] ['Aag (2007 film)' 'Amitabh Bachchan'] ['Aap Kaa Surroor' 'Himesh Reshammiya'] ['Aggar (film)' 'Tusshar Kapoor'] ['Anwar (2007 film)' 'Nauheed Cyrusi'] ['Aaja Nachle' 'Madhuri Dixit'] ['Apne' 'Dharmendra'] ['Awarapan' 'Emraan Hashmi'] ['Bheja Fry (film)' 'Vinay Pathak'] ['Bhool Bhulaiyaa' 'Akshay Kumar'] ['Bhram' 'Dino Morea'] ['Big Brother (2007 film)' 'Sunny Deol'] ['68 Pages' 'Mouli Ganguly'] ['Aur Pappu Paas Ho Gaya' 'Krishna Abhishek'] ['Apna Asmaan' 'Irrfan Khan'] ['Black Friday (2007 film)' 'Kay Kay Menon'] ['The Blue Umbrella (2005 film)' 'Pankaj Kapur'] ['Blood Brothers (2007 Indian film)' 'Jazzy Doe'] ['Buddha Mar Gaya' 'Mona Ambegaonkar'] ['Cash (2007 film)' 'Ajay Devgn'] ['Cheeni Kum' 'Amitabh Bachchan'] ['Chhodon Naa Yaar' 'Jimmy Sheirgill'] ['Darling (2007 Indian film)' 'Fardeen Khan'] ['Chak De! India' 'Shah Rukh Khan'] ['Dhamaal' 'Sanjay Dutt'] ['Goal (2007 Hindi film)' 'John Abraham'] ['Dharm (film)' 'Pankaj Kapur'] ['Bombay to Goa (2007 film)' 'Sunil Pal'] ['Dhokha' 'Muzamil Ibrahim'] ['Dil Dosti Etc' 'Imaaduddin Shah'] ['Dhol (film)' 'Sharman Joshi'] ['Ek Chalis Ki Last Local' 'Abhay Deol'] ['Familywala' 'Arjun Rampal'] ['Gandhi My Father' 'Akshaye Khanna'] [\"Don't Stop Dreaming\" 'Rishi Kapoor'] ['Dus Kahaniyaan' 'Arbaaz Khan'] ['Eklavya: The Royal Guard' 'Amitabh Bachchan'] ['Go (2007 film)' 'Gautam Gupta'] ['Gauri: The Unborn' 'Mohan Azaad'] ['Heyy Babyy' 'Juanna Sanghvi'] ['Guru (2007 film)' 'Mithun Chakraborty'] ['Honeymoon Travels Pvt. Ltd.' 'Ranvir Shorey'] ['Jahan Jaaeyega Hamen Paaeyega' 'Govinda'] ['Jhoom Barabar Jhoom' 'Abhishek Bachchan'] ['Jab We Met' 'Shahid Kapoor'] ['Good Boy Bad Boy' 'Tusshar Kapoor'] ['Fool & Final' 'Shahid Kapoor'] ['Khoya Khoya Chand' 'Shiney Ahuja'] ['Johnny Gaddaar' 'Dharmendra'] ['Just Married (2007 film)' 'Fardeen Khan'] ['Kya Love Story Hai' 'Tusshar Kapoor'] ['Kudiyon Ka Hai Zamana' 'Rekha'] ['Hastey Hastey' 'Jimmy Sheirgill'] ['Laaga Chunari Mein Daag' 'Rani Mukerji'] ['Life in a... Metro' 'Dharmendra'] ['Loins of Punjab Presents' 'Shabana Azmi'] ['Manorama Six Feet Under' 'Abhay Deol'] ['Marigold (2007 film)' 'Salman Khan'] ['MP3: Mera Pehla Pehla Pyaar' 'Menekka Arora'] ['Hattrick (film)' 'Nana Patekar'] ['Naqaab' 'Bobby Deol'] ['Mumbai Salsa' 'Linda Arsenio'] ['The Namesake (film)' 'Kal Penn'] ['Namastey London' 'Akshay Kumar'] ['My Bollywood Bride' 'Jason Lewis'] ['Nehlle Pe Dehlla' 'Sanjay Dutt'] ['Nishabd' 'Amitabh Bachchan'] ['No Smoking (2007 film)' 'John Abraham'] ['Om Shanti Om' 'Shah Rukh Khan'] ['Partner (2007 film)' 'Salman Khan'] ['Raqeeb' 'Rahul Khanna'] ['Nanhe Jaisalmer' 'Dwij Yadav'] ['Life Mein Kabhie Kabhiee' 'Aftab Shivdasani'] ['Risk (2007 film)' 'Vinod Khanna'] ['Shakalaka Boom Boom' 'Bobby Deol'] ['Red Swastik' 'Sherlyn Chopra'] ['Salaam-e-Ishq: A Tribute to Love' 'Salman Khan'] ['Saawariya' 'Rani Mukerji'] ['Sarhad Paar' 'Mahima Chaudhry'] ['Say Salaam India' 'Mandar Jadhav'] ['Red: The Dark Side' 'Aftab Shivdasani'] ['Shootout at Lokhandwala' 'Amitabh Bachchan'] ['Strangers (2007 Hindi film)' 'Jimmy Sheirgill'] ['Swami (2007 film)' 'Manoj Bajpayee'] ['Taare Zameen Par' 'Darsheel Safary'] ['Ta Ra Rum Pum' 'Saif Ali Khan'] ['Speed (2007 film)' 'Urmila Matondkar'] ['Traffic Signal (film)' 'Kunal Khemu'] ['The Train (2007 film)' 'Emraan Hashmi'] ['Showbiz (film)' 'Tushar Jalota'] ['Sunglass (film)' 'Jaya Bachchan'] ['Welcome (2007 film)' 'Akshay Kumar'] ['36 China Town' 'Akshaye Khanna'] ['Zamaanat' 'Jeetendra'] ['Aap Ki Khatir (2006 film)' 'Akshaye Khanna'] ['Ahista Ahista (2006 film)' 'Abhay Deol'] ['Aksar' 'Emraan Hashmi'] ['Alag' 'Akshay Kapoor'] ['Anthony Kaun Hai?' 'Sanjay Dutt'] ['Apna Sapna Money Money' 'Bobby Darling'] ['Ankahee (2006 film)' 'Aftab Shivdasani'] ['Yatra (2007 film)' 'Rekha'] ['Baabul (2006 film)' 'Amitabh Bachchan'] ['Aisa Kyon Hota Hai?' 'Rati Agnihotri'] ['Adharm (2006 film)' 'Rahul Dev'] ['Being Cyrus' 'Naseeruddin Shah'] ['Banaras (2006 film)' 'Urmila Matondkar'] ['Bas Ek Pal' 'Juhi Chawla'] ['Bhagam Bhag' 'Akshay Kumar'] ['Chingaari' 'Sushmita Sen'] ['Bhoot Unkle' 'Jackie Shroff'] ['Chand Ke Paar Chalo (film)' 'Somesh Agarwal'] ['Aryan: Unbreakable' 'Sohail Khan'] ['Chup Chup Ke' 'Kareena Kapoor'] ['Corporate (2006 film)' 'Bipasha Basu'] ['Darna Zaroori Hai' 'Amitabh Bachchan'] ['Deadline: Sirf 24 Ghante' 'Rajit Kapoor'] ['Dil Diya Hai' 'Emraan Hashmi'] ['Darwaaza Bandh Rakho' 'Ishrat Ali'] ['Eight: The Power of Shani' 'Raj Tara'] ['Dhoom 2' 'Hrithik Roshan'] ['Dor (film)' 'Ayesha Takia'] ['Don (2006 Hindi film)' 'Shah Rukh Khan'] ['Family (2006 film)' 'Amitabh Bachchan'] ['Fanaa (2006 film)' 'Aamir Khan'] ['Gangster (2006 film)' 'Kangana Ranaut'] ['Golmaal: Fun Unlimited' 'Ajay Devgn'] ['Devaki (2005 film)' 'Ram Kapoor'] ['Fight Club – Members Only' 'Sunil Shetty'] ['Dharti Kahe Pukar Ke (2006 film)' 'Ajay Devgn'] ['Humko Deewana Kar Gaye' 'Akshay Kumar'] ['Humko Tumse Pyaar Hai' 'Arjun Rampal'] ['I See You (2006 film)' 'Arjun Rampal'] ['Jaane Hoga Kya' 'Aftab Shivdasani'] ['Jaan-E-Mann' 'Salman Khan'] ['Jawani Diwani: A Youthful Joyride' 'Emraan Hashmi'] ['Holiday (2006 film)' 'Onjolee Nair'] ['Iqraar by Chance' 'Amarjeet'] ['Khosla Ka Ghosla' 'Anupam Kher'] ['Kabhi Alvida Naa Kehna' 'Amitabh Bachchan'] ['Love Ke Chakkar Mein' 'Rishi Kapoor'] ['Lage Raho Munna Bhai' 'Sanjay Dutt'] ['Kabul Express' 'John Abraham'] ['Jigyaasa' 'Nassar Abdulla'] ['Krrish' 'Rekha'] ['Malamaal Weekly' 'Paresh Rawal'] ['Omkara (2006 film)' 'Ajay Devgn'] ['Pyaar Ke Side Effects' 'Rahul Bose'] ['Naksha' 'Sunny Deol'] ['Phir Hera Pheri' 'Akshay Kumar'] ['Pyare Mohan' 'Fardeen Khan'] ['Mere Jeevan Saathi (2006 film)' 'Akshay Kumar'] ['Prateeksha' 'Jeetendra'] ['Sacred Evil – A True Story' 'Sarika'] ['Rang De Basanti' 'Aamir Khan'] ['Shaadi Karke Phas Gaya Yaar' 'Salman Khan'] ['Sandwich (2006 film)' 'Govinda'] ['Shaadi Se Pehle' 'Akshaye Khanna'] ['Saawan... The Love Season' 'Salman Khan'] ['Shiva (2006 film)' 'Mohit Ahlawat'] ['Souten: The Other Woman' 'Mahima Chaudhry'] ['Shikhar (film)' 'Ajay Devgn'] ['Children of Heaven' 'Mohammad Amir Naji'] ['Tathastu' 'Sanjay Dutt'] ['The Killer (2006 film)' 'Irrfan Khan'] ['Umrao Jaan (2006 film)' 'Aishwarya Rai Bachchan'] ['Taxi No. 9211' 'Nana Patekar'] ['Teesri Aankh: The Hidden Camera' 'Sunny Deol'] ['Vivah' 'Shahid Kapoor'] ['Utthaan' 'Priyanshu Chatterjee'] ['Waris Shah: Ishq Daa Waaris' 'Gurdas Maan'] ['Woh Lamhe...' 'Kangana Ranaut'] ['Yun Hota Toh Kya Hota' 'Paresh Rawal'] ['Umar (film)' 'Jimmy Sheirgill'] ['Zindaggi Rocks' 'Sushmita Sen'] ['Tom Dick and Harry (2006 film)' 'Rakesh Bedi'] ['Aashiq Banaya Aapne' 'Emraan Hashmi'] ['Anjaane (2005 film)' 'Manisha Koirala'] ['Apaharan' 'Ajay Devgn'] ['Bachke Rehna Re Baba' 'Rekha'] ['7½ Phere' 'Juhi Chawla'] ['Barsaat (2005 film)' 'Bobby Deol'] ['Bewafaa (2005 film)' 'Anil Kapoor'] ['Black (2005 film)' 'Amitabh Bachchan'] ['Zinda (film)' 'Sanjay Dutt'] ['Bluffmaster!' 'Abhishek Bachchan'] ['99.9 FM (film)' 'Shawar Ali'] ['Bhola in Bollywood' 'Ali Asgar'] ['Bhagmati (2005 film)' 'Tabu'] ['Blackmail (2005 film)' 'Ajay Devgn'] ['Bunty Aur Babli' 'Abhishek Bachchan'] ['Chaahat – Ek Nasha' 'Aryan Vaid'] ['Chetna: The Excitement' 'Jatin Grewal'] ['Chand Sa Roshan Chehra' 'Samir Aftab'] ['Chocolate (2005 film)' 'Anil Kapoor'] ['D (film)' 'Randeep Hooda'] ['Deewane Huye Paagal' 'Akshay Kumar'] ['Bullet: Ek Dhamaka' 'Saayli Buva'] ['Chehraa' 'Bipasha Basu'] ['Dil Jo Bhi Kahey...' 'Amitabh Bachchan'] ['Dosti: Friends Forever' 'Akshay Kumar'] ['Classic – Dance of Love' 'Mithun Chakraborty'] ['Dus' 'Sanjay Dutt'] ['Elaan (2005 film)' 'Arjun Rampal'] ['Fareb (2005 film)' 'Shilpa Shetty Kundra'] ['Ek Ajnabee' 'Amitabh Bachchan'] ['Fun – Can Be Dangerous Sometimes' 'Siddharth Koirala'] ['Ek Khiladi Ek Haseena (film)' 'Fardeen Khan'] ['Double Cross (2005 film)' 'Ayesha Jhulka'] ['Dreams (2006 film)' 'Aseel Adel'] ['Home Delivery' 'Vivek Oberoi'] ['Garam Masala (2005 film)' 'Akshay Kumar'] ['Iqbal (film)' 'Shreyas Talpade'] ['Jai Chiranjeeva' 'Chiranjeevi'] ['Hazaaron Khwaishein Aisi' 'Kay Kay Menon'] ['Insan' 'Akshay Kumar'] ['Jo Bole So Nihaal (film)' 'Sunny Deol'] ['Karam (film)' 'John Abraham'] ['Kaal (2005 film)' 'Ajay Devgn'] ['Kalyug (2005 film)' 'Kunal Khemu'] ['Kasak (2005 film)' 'Lucky Ali'] ['Hanuman (2005 film)' 'Mukesh Khanna'] ['James (2005 film)' 'Mohit Ahlawat'] ['Kisna: The Warrior Poet' 'Vivek Oberoi'] ['Koi Aap Sa' 'Aftab Shivdasani'] ['Khamoshh... Khauff Ki Raat' 'Shilpa Shetty Kundra'] ['Jurm (2005 film)' 'Kamal Adib'] ['Kuchh Meetha Ho Jaye' 'Arshad Warsi'] ['Kyaa Kool Hai Hum' 'Tusshar Kapoor'] ['Lucky: No Time for Love' 'Salman Khan'] ['Main Aisa Hi Hoon' 'Ajay Devgn'] ['Kyon Ki' 'Salman Khan'] ['Main Meri Patni Aur Woh' 'Rajpal Yadav'] ['Maine Gandhi Ko Nahin Mara' 'Anupam Kher'] ['Maine Pyaar Kyun Kiya?' 'Salman Khan'] ['Mangal Pandey: The Rising' 'Aamir Khan'] ['Koi Mere Dil Mein Hai' 'Dia Mirza'] ['Mr Prime Minister' 'Dev Anand'] ['My Brother…Nikhil' 'Sanjay Suri'] [\"My Wife's Murder\" 'Anil Kapoor'] ['Naina (2005 film)' 'Urmila Matondkar'] [\"Neal 'n' Nikki\" 'Uday Chopra'] ['No Entry' 'Anil Kapoor'] ['Padmashree Laloo Prasad Yadav' 'Sunil Shetty'] ['Page 3 (film)' 'Konkona Sen Sharma'] ['Morning Raga' 'Shabana Azmi'] ['Parineeta (2005 film)' 'Saif Ali Khan'] ['Pehchaan: The Face of Truth' 'Vinod Khanna'] ['Paheli' 'Shah Rukh Khan'] ['Rog' 'Irrfan Khan'] ['Pyaar Mein Twist' 'Rishi Kapoor'] ['Salaam Namaste' 'Saif Ali Khan'] ['Revati (film)' 'Kashmira Shah'] ['Sarkar (2005 film)' 'Amitabh Bachchan'] ['Sehar' 'Arshad Warsi'] ['Shabd (film)' 'Sanjay Dutt'] ['Shabnam Mausi' 'Ashutosh Rana'] ['Sheesha (2005 film)' 'Neha Dhupia'] ['Ramji Londonwaley' 'Madhavan'] ['Silsiilay' 'Tabu'] ['Socha Na Tha' 'Abhay Deol'] ['Taj Mahal: An Eternal Love Story' 'Zulfi Sayed'] ['Tango Charlie' 'Ajay Devgn'] ['The Film' 'Nassar Abdulla'] ['Vaada (film)' 'Arjun Rampal'] ['Vaah! Life Ho Toh Aisi!' 'Shahid Kapoor'] ['Ssukh' 'Aarti Chhabria'] ['Shaadi No. 1' 'Fardeen Khan'] ['Viruddh... Family Comes First' 'Amitabh Bachchan'] ['Waqt: The Race Against Time' 'Amitabh Bachchan'] ['Vidyaarthi' 'Vikram Aditya'] ['Yakeen (2005 film)' 'Arjun Rampal'] ['Zeher' 'Emraan Hashmi'] ['Veer-Zaara' 'Shah Rukh Khan'] ['Main Hoon Na' 'Shah Rukh Khan'] ['Zameer: The Fire Within' 'Ajay Devgn'] ['Mujhse Shaadi Karogi' 'Salman Khan'] ['Dhoom' 'Abhishek Bachchan'] ['Khakee' 'Amitabh Bachchan'] ['Hum Tum' 'Saif Ali Khan'] ['Hulchul (2004 film)' 'Akshaye Khanna'] ['Murder (2004 film)' 'Mallika Sherawat'] ['Yuva' 'Ajay Devgn'] ['Aitraaz' 'Akshay Kumar'] ['Aetbaar' 'Amitabh Bachchan'] ['Ab Tumhare Hawale Watan Saathiyo' 'Amitabh Bachchan'] ['Aan: Men at Work' 'Shatrughan Sinha'] ['Bardaasht' 'Bobby Deol'] ['Chameli (film)' 'Kareena Kapoor'] ['Agnipankh' 'Jimmy Sheirgill'] ['Asambhav' 'Arjun Rampal'] ['Charas (2004 film)' 'Jimmy Sheirgill'] ['Deewaar (2004 film)' 'Amitabh Bachchan'] ['Dev (2004 film)' 'Amitabh Bachchan'] ['Dil Maange More' 'Shahid Kapoor'] ['Dil Ne Jise Apna Kahaa' 'Salman Khan'] ['Dobara' 'Jackie Shroff'] ['Aabra Ka Daabra' 'Naveen Bawa'] ['Dil Bechara Pyaar Ka Maara' 'Vikaas Kalantari'] ['Gayab' 'Tusshar Kapoor'] ['Fida' 'Kareena Kapoor'] ['Garv: Pride & Honour' 'Salman Khan'] ['Ek Se Badhkar Ek (2004 film)' 'Sunil Shetty'] ['Ek Hasina Thi (film)' 'Saif Ali Khan'] ['Girlfriend (2004 film)' 'Isha Koppikar'] ['Hatya (2004 film)' 'Akshay Kumar'] ['Hava Aney Dey' 'Aniket Vishwasrao'] ['Hawas (2004 film)' 'Shawar Ali'] ['Hyderabad Blues 2' 'Tisca Chopra'] ['Julie (2004 film)' 'Neha Dhupia'] ['Kaun Hai Jo Sapno Mein Aaya' 'Raqesh Bapat'] ['Inteqam: The Perfect Game' 'Manoj Bajpayee'] ['Kis Kis Ki Kismat' 'Mallika Sherawat'] ['Insaaf: The Justice' 'Dino Morea'] ['I Proud to Be an Indian' 'Sohail Khan'] ['Khamosh Pani' 'Kiron Kher'] ['Kismat (2004 film)' 'Bobby Deol'] ['Lakeer – Forbidden Lines' 'Sunny Deol'] ['Krishna Cottage' 'Sohail Khan'] ['Kyun! Ho Gaya Na...' 'Amitabh Bachchan'] ['Madhoshi' 'Bipasha Basu'] ['Lakshya (film)' 'Hrithik Roshan'] ['Ishq Hai Tumse' 'Dino Morea'] ['Maqbool' 'Irrfan Khan'] ['Masti (2004 film)' 'Aftab Shivdasani'] ['Meenaxi: A Tale of Three Cities' 'Tabu'] ['Musafir (2004 film)' 'Anil Kapoor'] ['Mughal-e-Azam' 'Prithviraj Kapoor'] ['Muskaan' 'Aftab Shivdasani'] ['Meri Biwi Ka Jawaab Nahin' 'Akshay Kumar'] ['Naach (2004 film)' 'Antara Mali'] ['Netaji Subhas Chandra Bose: The Forgotten Hero' 'Vinay Anand'] ['Paap' 'John Abraham'] ['Phir Milenge' 'Salman Khan'] ['Plan (film)' 'Sanjay Dutt'] ['Police Force: An Inside Story' 'Akshay Kumar'] ['Paisa Vasool' 'Manisha Koirala'] ['Popcorn Khao! Mast Ho Jao' 'Akshay Kapoor'] ['Rakht' 'Sanjay Dutt'] ['Raincoat (film)' 'Ajay Devgn'] ['Rudraksh (film)' 'Sanjay Dutt'] ['Shaadi Ka Laddoo' 'Sanjay Suri'] ['Run (2004 film)' 'Abhishek Bachchan'] ['Rok Sako To Rok Lo' 'Sunny Deol'] ['Suno Sasurjee' 'Aftab Shivdasani'] ['Swades' 'Shah Rukh Khan'] ['Taarzan: The Wonder Car' 'Vatsal Sheth'] ['Nothing but Life' 'Madhavan'] ['Shart: The Challenge' 'Tusshar Kapoor'] ['Tumsa Nahin Dekha: A Love Story' 'Emraan Hashmi'] ['Vaastu Shastra (film)' 'Vicky Ahuja'] ['Yeh Lamhe Judaai Ke' 'Shah Rukh Khan'] ['Sheen (film)' 'Tarun Arora'] [\"Dude Where's the Party?\" 'Diwakar Pathak'] ['Thoda Tum Badlo Thoda Hum' 'Arya Babbar'] ['Koi... Mil Gaya' 'Rekha'] ['Kal Ho Naa Ho' 'Shah Rukh Khan'] ['Shukriya: Till Death Do Us Apart' 'Anupam Kher'] ['Chalte Chalte (2003 film)' 'Shah Rukh Khan'] ['The Hero: Love Story of a Spy' 'Sunny Deol'] ['Baghban (2003 film)' 'Amitabh Bachchan'] ['Main Prem Ki Diwani Hoon' 'Hrithik Roshan'] ['LOC Kargil' 'Sanjay Dutt'] ['Border (1997 film)' 'Sanjay Dutt'] ['Munna Bhai M.B.B.S.' 'Sanjay Dutt'] ['Qayamat: City Under Threat' 'Ajay Devgn'] ['88 Antop Hill' 'Atul Kulkarni'] ['3 Deewarein' 'Naseeruddin Shah'] ['Aanch' 'Arun Bakshi'] ['Aapko Pehle Bhi Kahin Dekha Hai' 'Priyanshu Chatterjee'] ['Bhoot (film)' 'Ajay Devgn'] ['Boom (film)' 'Amitabh Bachchan'] ['Aaj Ka Andha Kanoon' 'Sudesh Berry'] ['Andaaz' 'Akshay Kumar'] ['Andaaz' 'Akshay Kumar'] ['Armaan (2003 film)' 'Amitabh Bachchan'] ['Chori Chori (2003 film)' 'Ajay Devgn'] ['Calcutta Mail' 'Anil Kapoor'] ['Baaz: A Bird in Danger' 'Jackie Shroff'] ['Basti (film)' 'Sadashiv Amrapurkar'] ['Magic Magic 3D' 'Sooraj Balaji'] ['Dil Ka Rishta' 'Arjun Rampal'] ['Darna Mana Hai' 'Sameera Reddy'] ['Dhoop' 'Om Puri'] ['Dhund (2003 film)' 'Amar Upadhyaya'] ['Chura Liyaa Hai Tumne' 'Zayed Khan'] ['The Bypass' 'Nawazuddin Siddiqui'] ['Dum (2003 Hindi film)' 'Vivek Oberoi'] ['Dil Pardesi Ho Gayaa' 'Kapil Jhaveri'] ['Ek Alag Mausam' 'Nandita Das'] ['Footpath (2003 film)' 'Aftab Shivdasani'] ['Escape from Taliban' 'Manisha Koirala'] ['Ek Din 24 Ghante' 'Rahul Bose'] ['Gangaajal' 'Ajay Devgn'] ['Hawa (film)' 'Tabu'] ['Haasil' 'Jimmy Sheirgill'] ['Ek Aur Ek Gyarah' 'Sanjay Dutt'] ['Hungama (2003 film)' 'Akshaye Khanna'] ['Green Card Fever' 'Vikram Dasu'] ['Flavors (film)' 'Reef Karim'] ['Indian Babu' 'Jaz Pandher'] ['Fun2shh... Dudes in the 10th Century' 'Rushali Arora'] ['Inteha (2003 film)' 'Ashmit Patel'] ['Jaal: The Trap' 'Sunny Deol'] ['Ishq Vishk' 'Shahid Kapoor'] ['Hawayein' 'Babbu Mann'] ['Jajantaram Mamantaram' 'Javed Jaffrey'] ['Jism (2003 film)' 'Bipasha Basu'] ['Jhankaar Beats' 'Sanjay Suri'] ['Kagaar: Life on the Edge' 'Om Puri'] ['Kash Aap Hamare Hote' 'Juhi Babbar'] ['Khel – No Ordinary Game' 'Sunny Deol'] ['Janasheen' 'Feroz Khan'] ['Kaise Kahoon Ke... Pyaar Hai' 'Amit Hingorani'] ['Khushi (2003 Hindi film)' 'Fardeen Khan'] ['Khwahish' 'Himanshu Malik'] ['Kucch To Hai' 'Tusshar Kapoor'] ['Kuch Naa Kaho' 'Aishwarya Rai Bachchan'] ['Main Madhuri Dixit Banna Chahti Hoon' 'Antara Mali'] [\"Joggers' Park (film)\" 'Victor Banerjee'] ['Market (2003 film)' 'Manisha Koirala'] ['Om (2003 film)' 'Attin Bhalla'] ['Out of Control (2003 film)' 'Riteish Deshmukh'] ['Mumbai Matinee' 'Rahul Bose'] ['Matrubhoomi' 'Tulip Joshi'] ['Parwana (2003 film)' 'Ajay Devgn'] ['Pinjar (film)' 'Urmila Matondkar'] ['Mumbai Se Aaya Mera Dost' 'Abhishek Bachchan'] ['Saaya (2003 film)' 'John Abraham'] ['Samay: When Time Strikes' 'Sushmita Sen'] ['Nayee Padosan' 'Vikas Kalantri'] ['Satta (film)' 'Raveena Tandon'] ['Sssshhh...' 'Tanishaa Mukerji'] ['Praan Jaye Par Shaan Na Jaye' 'Raveena Tandon'] ['Raghu Romeo' 'Vijay Raaz'] ['Stumped (film)' 'Raveena Tandon'] ['Rules: Pyaar Ka Superhit Formula' 'Tanuja'] ['Right Here Right Now (film)' 'Ankit'] ['Raja Bhaiya (film)' 'Sadashiv Amrapurkar'] ['Tere Naam' 'Salman Khan'] ['Tujhe Meri Kasam' 'Riteish Deshmukh'] ['Talaash: The Hunt Begins...' 'Rakhee Gulzar'] ['Tehzeeb (2003 film)' 'Shabana Azmi'] ['The Pink Mirror' 'Edwin Fernandes'] ['Yeh Dil' 'Tusshar Kapoor'] ['Xcuse Me' 'Sharman Joshi'] ['Raaz (2002 film)' 'Dino Morea'] ['Zameen (2003 film)' 'Ajay Devgn'] ['Waisa Bhi Hota Hai Part II' 'Arshad Warsi'] ['Devdas (2002 Hindi film)' 'Shah Rukh Khan'] ['Kaante' 'Amitabh Bachchan'] ['Hum Tumhare Hain Sanam' 'Shah Rukh Khan'] ['Aankhen (2002 film)' 'Amitabh Bachchan'] ['Saathiya (film)' 'Vivek Oberoi'] ['Company (film)' 'Ajay Devgn'] ['Awara Paagal Deewana' 'Akshay Kumar'] "
     ]
    }
   ],
   "source": [
    "# loop\n",
    "for i in movies.values:\n",
    "    print(i,end=\" \")"
   ]
  },
  {
   "cell_type": "code",
   "execution_count": 45,
   "id": "5ebf1afe-9996-4179-bfaf-5ec738484bd2",
   "metadata": {},
   "outputs": [
    {
     "data": {
      "text/plain": [
       "Maths        67\n",
       "english      57\n",
       "french       89\n",
       "business    100\n",
       "Name: jay marks 2025, dtype: int64"
      ]
     },
     "execution_count": 45,
     "metadata": {},
     "output_type": "execute_result"
    }
   ],
   "source": [
    "# arithmetic operators (Broadcasting)\n",
    "marks = {\n",
    "    'Maths'    :    67,\n",
    "    'english'   :   57,\n",
    "    'french'    :   89,\n",
    "    'business'  :  100\n",
    "}\n",
    "marks_series = pd.Series(marks,name='jay marks 2025')\n",
    "marks_series"
   ]
  },
  {
   "cell_type": "code",
   "execution_count": 46,
   "id": "b7f8b00c-20f8-45ed-b89a-687f91e86406",
   "metadata": {},
   "outputs": [
    {
     "data": {
      "text/plain": [
       "Maths       33\n",
       "english     43\n",
       "french      11\n",
       "business     0\n",
       "Name: jay marks 2025, dtype: int64"
      ]
     },
     "execution_count": 46,
     "metadata": {},
     "output_type": "execute_result"
    }
   ],
   "source": [
    "100 - marks_series"
   ]
  },
  {
   "cell_type": "code",
   "execution_count": 47,
   "id": "9896855b-af41-4614-b224-1252cb20a409",
   "metadata": {},
   "outputs": [
    {
     "data": {
      "text/html": [
       "<div>\n",
       "<style scoped>\n",
       "    .dataframe tbody tr th:only-of-type {\n",
       "        vertical-align: middle;\n",
       "    }\n",
       "\n",
       "    .dataframe tbody tr th {\n",
       "        vertical-align: top;\n",
       "    }\n",
       "\n",
       "    .dataframe thead th {\n",
       "        text-align: right;\n",
       "    }\n",
       "</style>\n",
       "<table border=\"1\" class=\"dataframe\">\n",
       "  <thead>\n",
       "    <tr style=\"text-align: right;\">\n",
       "      <th></th>\n",
       "      <th>match_no</th>\n",
       "      <th>runs</th>\n",
       "    </tr>\n",
       "  </thead>\n",
       "  <tbody>\n",
       "    <tr>\n",
       "      <th>0</th>\n",
       "      <td>1</td>\n",
       "      <td>1</td>\n",
       "    </tr>\n",
       "    <tr>\n",
       "      <th>1</th>\n",
       "      <td>2</td>\n",
       "      <td>23</td>\n",
       "    </tr>\n",
       "    <tr>\n",
       "      <th>2</th>\n",
       "      <td>3</td>\n",
       "      <td>13</td>\n",
       "    </tr>\n",
       "    <tr>\n",
       "      <th>3</th>\n",
       "      <td>4</td>\n",
       "      <td>12</td>\n",
       "    </tr>\n",
       "    <tr>\n",
       "      <th>4</th>\n",
       "      <td>5</td>\n",
       "      <td>1</td>\n",
       "    </tr>\n",
       "    <tr>\n",
       "      <th>...</th>\n",
       "      <td>...</td>\n",
       "      <td>...</td>\n",
       "    </tr>\n",
       "    <tr>\n",
       "      <th>210</th>\n",
       "      <td>211</td>\n",
       "      <td>0</td>\n",
       "    </tr>\n",
       "    <tr>\n",
       "      <th>211</th>\n",
       "      <td>212</td>\n",
       "      <td>20</td>\n",
       "    </tr>\n",
       "    <tr>\n",
       "      <th>212</th>\n",
       "      <td>213</td>\n",
       "      <td>73</td>\n",
       "    </tr>\n",
       "    <tr>\n",
       "      <th>213</th>\n",
       "      <td>214</td>\n",
       "      <td>25</td>\n",
       "    </tr>\n",
       "    <tr>\n",
       "      <th>214</th>\n",
       "      <td>215</td>\n",
       "      <td>7</td>\n",
       "    </tr>\n",
       "  </tbody>\n",
       "</table>\n",
       "<p>215 rows × 2 columns</p>\n",
       "</div>"
      ],
      "text/plain": [
       "     match_no  runs\n",
       "0           1     1\n",
       "1           2    23\n",
       "2           3    13\n",
       "3           4    12\n",
       "4           5     1\n",
       "..        ...   ...\n",
       "210       211     0\n",
       "211       212    20\n",
       "212       213    73\n",
       "213       214    25\n",
       "214       215     7\n",
       "\n",
       "[215 rows x 2 columns]"
      ]
     },
     "execution_count": 47,
     "metadata": {},
     "output_type": "execute_result"
    }
   ],
   "source": [
    "# relational operators\n",
    "vk"
   ]
  },
  {
   "cell_type": "code",
   "execution_count": 48,
   "id": "d0019422-cf80-4873-8a85-ce6060fec994",
   "metadata": {},
   "outputs": [
    {
     "data": {
      "text/html": [
       "<div>\n",
       "<style scoped>\n",
       "    .dataframe tbody tr th:only-of-type {\n",
       "        vertical-align: middle;\n",
       "    }\n",
       "\n",
       "    .dataframe tbody tr th {\n",
       "        vertical-align: top;\n",
       "    }\n",
       "\n",
       "    .dataframe thead th {\n",
       "        text-align: right;\n",
       "    }\n",
       "</style>\n",
       "<table border=\"1\" class=\"dataframe\">\n",
       "  <thead>\n",
       "    <tr style=\"text-align: right;\">\n",
       "      <th></th>\n",
       "      <th>match_no</th>\n",
       "      <th>runs</th>\n",
       "    </tr>\n",
       "  </thead>\n",
       "  <tbody>\n",
       "    <tr>\n",
       "      <th>0</th>\n",
       "      <td>False</td>\n",
       "      <td>False</td>\n",
       "    </tr>\n",
       "    <tr>\n",
       "      <th>1</th>\n",
       "      <td>False</td>\n",
       "      <td>False</td>\n",
       "    </tr>\n",
       "    <tr>\n",
       "      <th>2</th>\n",
       "      <td>False</td>\n",
       "      <td>False</td>\n",
       "    </tr>\n",
       "    <tr>\n",
       "      <th>3</th>\n",
       "      <td>False</td>\n",
       "      <td>False</td>\n",
       "    </tr>\n",
       "    <tr>\n",
       "      <th>4</th>\n",
       "      <td>False</td>\n",
       "      <td>False</td>\n",
       "    </tr>\n",
       "    <tr>\n",
       "      <th>...</th>\n",
       "      <td>...</td>\n",
       "      <td>...</td>\n",
       "    </tr>\n",
       "    <tr>\n",
       "      <th>210</th>\n",
       "      <td>True</td>\n",
       "      <td>False</td>\n",
       "    </tr>\n",
       "    <tr>\n",
       "      <th>211</th>\n",
       "      <td>True</td>\n",
       "      <td>False</td>\n",
       "    </tr>\n",
       "    <tr>\n",
       "      <th>212</th>\n",
       "      <td>True</td>\n",
       "      <td>True</td>\n",
       "    </tr>\n",
       "    <tr>\n",
       "      <th>213</th>\n",
       "      <td>True</td>\n",
       "      <td>False</td>\n",
       "    </tr>\n",
       "    <tr>\n",
       "      <th>214</th>\n",
       "      <td>True</td>\n",
       "      <td>False</td>\n",
       "    </tr>\n",
       "  </tbody>\n",
       "</table>\n",
       "<p>215 rows × 2 columns</p>\n",
       "</div>"
      ],
      "text/plain": [
       "     match_no   runs\n",
       "0       False  False\n",
       "1       False  False\n",
       "2       False  False\n",
       "3       False  False\n",
       "4       False  False\n",
       "..        ...    ...\n",
       "210      True  False\n",
       "211      True  False\n",
       "212      True   True\n",
       "213      True  False\n",
       "214      True  False\n",
       "\n",
       "[215 rows x 2 columns]"
      ]
     },
     "execution_count": 48,
     "metadata": {},
     "output_type": "execute_result"
    }
   ],
   "source": [
    "vk >= 50"
   ]
  },
  {
   "cell_type": "markdown",
   "id": "c21b7d07-dcc4-4e2f-8c83-a23c736f7634",
   "metadata": {},
   "source": [
    "Boolean Indexing"
   ]
  },
  {
   "cell_type": "code",
   "execution_count": 5,
   "id": "ec7c7463-0b6b-4c8b-8fc8-ba121c695f4c",
   "metadata": {},
   "outputs": [
    {
     "data": {
      "text/plain": [
       "430"
      ]
     },
     "execution_count": 5,
     "metadata": {},
     "output_type": "execute_result"
    }
   ],
   "source": [
    "vk[vk >= 50].size\n"
   ]
  },
  {
   "cell_type": "code",
   "execution_count": 7,
   "id": "de55f8bf-e7b6-4246-93a2-609d9ed41caa",
   "metadata": {},
   "outputs": [
    {
     "data": {
      "text/html": [
       "<div>\n",
       "<style scoped>\n",
       "    .dataframe tbody tr th:only-of-type {\n",
       "        vertical-align: middle;\n",
       "    }\n",
       "\n",
       "    .dataframe tbody tr th {\n",
       "        vertical-align: top;\n",
       "    }\n",
       "\n",
       "    .dataframe thead th {\n",
       "        text-align: right;\n",
       "    }\n",
       "</style>\n",
       "<table border=\"1\" class=\"dataframe\">\n",
       "  <thead>\n",
       "    <tr style=\"text-align: right;\">\n",
       "      <th></th>\n",
       "      <th>match_no</th>\n",
       "      <th>runs</th>\n",
       "    </tr>\n",
       "  </thead>\n",
       "  <tbody>\n",
       "    <tr>\n",
       "      <th>0</th>\n",
       "      <td>NaN</td>\n",
       "      <td>NaN</td>\n",
       "    </tr>\n",
       "    <tr>\n",
       "      <th>1</th>\n",
       "      <td>NaN</td>\n",
       "      <td>NaN</td>\n",
       "    </tr>\n",
       "    <tr>\n",
       "      <th>2</th>\n",
       "      <td>NaN</td>\n",
       "      <td>NaN</td>\n",
       "    </tr>\n",
       "    <tr>\n",
       "      <th>3</th>\n",
       "      <td>NaN</td>\n",
       "      <td>NaN</td>\n",
       "    </tr>\n",
       "    <tr>\n",
       "      <th>4</th>\n",
       "      <td>NaN</td>\n",
       "      <td>NaN</td>\n",
       "    </tr>\n",
       "    <tr>\n",
       "      <th>...</th>\n",
       "      <td>...</td>\n",
       "      <td>...</td>\n",
       "    </tr>\n",
       "    <tr>\n",
       "      <th>210</th>\n",
       "      <td>NaN</td>\n",
       "      <td>0.0</td>\n",
       "    </tr>\n",
       "    <tr>\n",
       "      <th>211</th>\n",
       "      <td>NaN</td>\n",
       "      <td>NaN</td>\n",
       "    </tr>\n",
       "    <tr>\n",
       "      <th>212</th>\n",
       "      <td>NaN</td>\n",
       "      <td>NaN</td>\n",
       "    </tr>\n",
       "    <tr>\n",
       "      <th>213</th>\n",
       "      <td>NaN</td>\n",
       "      <td>NaN</td>\n",
       "    </tr>\n",
       "    <tr>\n",
       "      <th>214</th>\n",
       "      <td>NaN</td>\n",
       "      <td>NaN</td>\n",
       "    </tr>\n",
       "  </tbody>\n",
       "</table>\n",
       "<p>215 rows × 2 columns</p>\n",
       "</div>"
      ],
      "text/plain": [
       "     match_no  runs\n",
       "0         NaN   NaN\n",
       "1         NaN   NaN\n",
       "2         NaN   NaN\n",
       "3         NaN   NaN\n",
       "4         NaN   NaN\n",
       "..        ...   ...\n",
       "210       NaN   0.0\n",
       "211       NaN   NaN\n",
       "212       NaN   NaN\n",
       "213       NaN   NaN\n",
       "214       NaN   NaN\n",
       "\n",
       "[215 rows x 2 columns]"
      ]
     },
     "execution_count": 7,
     "metadata": {},
     "output_type": "execute_result"
    }
   ],
   "source": [
    "# ducks \n",
    "vk[vk == 0]"
   ]
  },
  {
   "cell_type": "code",
   "execution_count": 9,
   "id": "649758e3-ce5c-41f9-b492-9772165e4bae",
   "metadata": {},
   "outputs": [
    {
     "data": {
      "text/plain": [
       "0       48\n",
       "1       57\n",
       "2       40\n",
       "3       43\n",
       "4       44\n",
       "      ... \n",
       "360    231\n",
       "361    226\n",
       "362    155\n",
       "363    144\n",
       "364    172\n",
       "Name: Subscribers gained, Length: 365, dtype: int64"
      ]
     },
     "execution_count": 9,
     "metadata": {},
     "output_type": "execute_result"
    }
   ],
   "source": [
    "subs = pd.read_csv('subs.csv').squeeze()\n",
    "subs"
   ]
  },
  {
   "cell_type": "code",
   "execution_count": 12,
   "id": "c02e2742-1e59-459f-9b6f-5d5e0b05dc65",
   "metadata": {},
   "outputs": [
    {
     "data": {
      "text/plain": [
       "59"
      ]
     },
     "execution_count": 12,
     "metadata": {},
     "output_type": "execute_result"
    }
   ],
   "source": [
    "subs[subs > 200].size"
   ]
  },
  {
   "cell_type": "code",
   "execution_count": 13,
   "id": "dfdd6424-215c-4efb-b7bf-f488fd5f0ad0",
   "metadata": {},
   "outputs": [
    {
     "data": {
      "text/plain": [
       "movie\n",
       "Uri: The Surgical Strike                   Vicky Kaushal\n",
       "Battalion 609                                Vicky Ahuja\n",
       "The Accidental Prime Minister (film)         Anupam Kher\n",
       "Why Cheat India                            Emraan Hashmi\n",
       "Evening Shadows                         Mona Ambegaonkar\n",
       "                                              ...       \n",
       "Hum Tumhare Hain Sanam                    Shah Rukh Khan\n",
       "Aankhen (2002 film)                     Amitabh Bachchan\n",
       "Saathiya (film)                             Vivek Oberoi\n",
       "Company (film)                                Ajay Devgn\n",
       "Awara Paagal Deewana                        Akshay Kumar\n",
       "Name: lead, Length: 1500, dtype: object"
      ]
     },
     "execution_count": 13,
     "metadata": {},
     "output_type": "execute_result"
    }
   ],
   "source": [
    "movies = pd.read_csv('bollywood.csv',index_col='movie').squeeze()\n",
    "movies"
   ]
  },
  {
   "cell_type": "code",
   "execution_count": 15,
   "id": "3964df05-d60c-47af-8d56-4b8f622e1a3a",
   "metadata": {},
   "outputs": [
    {
     "data": {
      "text/plain": [
       "lead\n",
       "Akshay Kumar        48\n",
       "Amitabh Bachchan    45\n",
       "Ajay Devgn          38\n",
       "Salman Khan         31\n",
       "Sanjay Dutt         26\n",
       "Shah Rukh Khan      22\n",
       "Emraan Hashmi       21\n",
       "Name: count, dtype: int64"
      ]
     },
     "execution_count": 15,
     "metadata": {},
     "output_type": "execute_result"
    }
   ],
   "source": [
    "num_movies = movies.value_counts()\n",
    "num_movies[num_movies > 20]"
   ]
  },
  {
   "cell_type": "markdown",
   "id": "fee9da3e-d6e4-4b76-bedd-cc6f0ffc7444",
   "metadata": {},
   "source": [
    "Plotting Graphs using Pandas"
   ]
  },
  {
   "cell_type": "code",
   "execution_count": 17,
   "id": "b5cca94e-d3c0-4a61-b391-16f272856bd4",
   "metadata": {},
   "outputs": [
    {
     "name": "stderr",
     "output_type": "stream",
     "text": [
      "Matplotlib is building the font cache; this may take a moment.\n"
     ]
    },
    {
     "data": {
      "text/plain": [
       "<Axes: >"
      ]
     },
     "execution_count": 17,
     "metadata": {},
     "output_type": "execute_result"
    },
    {
     "data": {
      "image/png": "[encoded data removed]",
      "text/plain": [
       "<Figure size 640x480 with 1 Axes>"
      ]
     },
     "metadata": {},
     "output_type": "display_data"
    }
   ],
   "source": [
    "subs.plot()"
   ]
  },
  {
   "cell_type": "code",
   "execution_count": 21,
   "id": "f2676334-57c1-416a-a403-4086309050b9",
   "metadata": {},
   "outputs": [
    {
     "data": {
      "text/plain": [
       "<Axes: ylabel='count'>"
      ]
     },
     "execution_count": 21,
     "metadata": {},
     "output_type": "execute_result"
    },
    {
     "data": {
      "image/png": "[encoded data removed]",
      "text/plain": [
       "<Figure size 640x480 with 1 Axes>"
      ]
     },
     "metadata": {},
     "output_type": "display_data"
    }
   ],
   "source": [
    "# movies.value_counts().head(20).plot(kind='bar')\n",
    "movies.value_counts().head(20).plot(kind='pie')"
   ]
  },
  {
   "cell_type": "code",
   "execution_count": null,
   "id": "289ec01f-80ca-4c42-bf5b-f9f0dfdf7c9f",
   "metadata": {},
   "outputs": [],
   "source": []
  }
 ],
 "metadata": {
  "kernelspec": {
   "display_name": "Python 3 (ipykernel)",
   "language": "python",
   "name": "python3"
  },
  "language_info": {
   "codemirror_mode": {
    "name": "ipython",
    "version": 3
   },
   "file_extension": ".py",
   "mimetype": "text/x-python",
   "name": "python",
   "nbconvert_exporter": "python",
   "pygments_lexer": "ipython3",
   "version": "3.13.2"
  }
 },
 "nbformat": 4,
 "nbformat_minor": 5
}
