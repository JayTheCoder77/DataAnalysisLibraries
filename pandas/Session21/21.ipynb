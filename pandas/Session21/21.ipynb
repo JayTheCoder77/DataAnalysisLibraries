{
  "cells": [
    {
      "cell_type": "markdown",
      "metadata": {
        "id": "view-in-github",
        "colab_type": "text"
      },
      "source": [
        "<a href=\"https://colab.research.google.com/github/JayTheCoder77/DataAnalysisLibraries/blob/main/pandas/Session21/21.ipynb\" target=\"_parent\"><img src=\"https://colab.research.google.com/assets/colab-badge.svg\" alt=\"Open In Colab\"/></a>"
      ]
    },
    {
      "cell_type": "code",
      "execution_count": 4,
      "metadata": {
        "vscode": {
          "languageId": "plaintext"
        },
        "id": "H-kGfbMmXMDq"
      },
      "outputs": [],
      "source": [
        "import pandas as pd\n",
        "import numpy as np"
      ]
    },
    {
      "cell_type": "markdown",
      "source": [
        "Series is 1d and data frame 2d\n"
      ],
      "metadata": {
        "id": "kNPKc7bhPr8I"
      }
    },
    {
      "cell_type": "code",
      "source": [
        " # multiple indexes series possible?\n",
        " index_val = [('cse',2019),('cse',2020),('cse',2021) , ('cse',2022) , ('ece',2019) , ('ece',2020) , ('ece',2021) , ('ece',2022)]\n",
        " a = pd.Series([1,2,3,4,5,6,7,8] , index=index_val)\n",
        " a[('cse',2022)]"
      ],
      "metadata": {
        "id": "Nu8FTNeAPvpa",
        "outputId": "efbea50b-3740-4254-a389-a97caf7236aa",
        "colab": {
          "base_uri": "https://localhost:8080/",
          "height": 147
        }
      },
      "execution_count": 6,
      "outputs": [
        {
          "output_type": "execute_result",
          "data": {
            "text/plain": [
              "(cse, 2022)    4\n",
              "(cse, 2022)    8\n",
              "dtype: int64"
            ],
            "text/html": [
              "<div>\n",
              "<style scoped>\n",
              "    .dataframe tbody tr th:only-of-type {\n",
              "        vertical-align: middle;\n",
              "    }\n",
              "\n",
              "    .dataframe tbody tr th {\n",
              "        vertical-align: top;\n",
              "    }\n",
              "\n",
              "    .dataframe thead th {\n",
              "        text-align: right;\n",
              "    }\n",
              "</style>\n",
              "<table border=\"1\" class=\"dataframe\">\n",
              "  <thead>\n",
              "    <tr style=\"text-align: right;\">\n",
              "      <th></th>\n",
              "      <th>0</th>\n",
              "    </tr>\n",
              "  </thead>\n",
              "  <tbody>\n",
              "    <tr>\n",
              "      <th>(cse, 2022)</th>\n",
              "      <td>4</td>\n",
              "    </tr>\n",
              "    <tr>\n",
              "      <th>(cse, 2022)</th>\n",
              "      <td>8</td>\n",
              "    </tr>\n",
              "  </tbody>\n",
              "</table>\n",
              "</div><br><label><b>dtype:</b> int64</label>"
            ]
          },
          "metadata": {},
          "execution_count": 6
        }
      ]
    },
    {
      "cell_type": "code",
      "source": [
        "# the problem with multiindex series\n",
        "# a['cse'] error"
      ],
      "metadata": {
        "id": "VO8cQqNCTvuA"
      },
      "execution_count": 8,
      "outputs": []
    },
    {
      "cell_type": "code",
      "source": [
        "# solution -> multiindex series also hierarchial indexing\n",
        "# multiple index levels within a single index"
      ],
      "metadata": {
        "id": "grbjqi-fUGEh"
      },
      "execution_count": 9,
      "outputs": []
    },
    {
      "cell_type": "code",
      "source": [
        "# creating multindex object\n",
        "# from tuples\n",
        "index_val = [('cse',2019),('cse',2020),('cse',2021) , ('cse',2022) , ('ece',2019) , ('ece',2020) , ('ece',2021) , ('ece',2022)]\n",
        "multiindex = pd.MultiIndex.from_tuples(index_val)\n",
        "multiindex # this is a multiindex object\n",
        "multiindex.levels[1]\n",
        "multiindex.levels[0]\n",
        "multiindex.levels"
      ],
      "metadata": {
        "id": "WPTpU3D6WBXK",
        "outputId": "06af52c9-0089-45d0-ac62-8b482ebb5528",
        "colab": {
          "base_uri": "https://localhost:8080/"
        }
      },
      "execution_count": 14,
      "outputs": [
        {
          "output_type": "execute_result",
          "data": {
            "text/plain": [
              "FrozenList([['cse', 'ece'], [2019, 2020, 2021, 2022]])"
            ]
          },
          "metadata": {},
          "execution_count": 14
        }
      ]
    },
    {
      "cell_type": "code",
      "source": [
        "# from product\n",
        "pd.MultiIndex.from_product([['cse','ece'],[2019,2020,2021,2022]])"
      ],
      "metadata": {
        "id": "XR0u81YWWPiy",
        "outputId": "de5219bd-fe63-4e0b-c98a-16aefe9d1080",
        "colab": {
          "base_uri": "https://localhost:8080/"
        }
      },
      "execution_count": 16,
      "outputs": [
        {
          "output_type": "execute_result",
          "data": {
            "text/plain": [
              "MultiIndex([('cse', 2019),\n",
              "            ('cse', 2020),\n",
              "            ('cse', 2021),\n",
              "            ('cse', 2022),\n",
              "            ('ece', 2019),\n",
              "            ('ece', 2020),\n",
              "            ('ece', 2021),\n",
              "            ('ece', 2022)],\n",
              "           )"
            ]
          },
          "metadata": {},
          "execution_count": 16
        }
      ]
    },
    {
      "cell_type": "code",
      "source": [
        "# level inside multiindex object"
      ],
      "metadata": {
        "id": "00abIgeiXQXo"
      },
      "execution_count": 18,
      "outputs": []
    },
    {
      "cell_type": "code",
      "source": [
        "# series with multiindex object\n",
        "s = pd.Series([1,2,3,4,5,6,7,8],index=multiindex)\n"
      ],
      "metadata": {
        "id": "vUX2PQ83Wy3B",
        "outputId": "1f0e9b09-048f-4537-bf0d-af242c5d3309",
        "colab": {
          "base_uri": "https://localhost:8080/",
          "height": 210
        }
      },
      "execution_count": 23,
      "outputs": [
        {
          "output_type": "execute_result",
          "data": {
            "text/plain": [
              "2019    1\n",
              "2020    2\n",
              "2021    3\n",
              "2022    4\n",
              "dtype: int64"
            ],
            "text/html": [
              "<div>\n",
              "<style scoped>\n",
              "    .dataframe tbody tr th:only-of-type {\n",
              "        vertical-align: middle;\n",
              "    }\n",
              "\n",
              "    .dataframe tbody tr th {\n",
              "        vertical-align: top;\n",
              "    }\n",
              "\n",
              "    .dataframe thead th {\n",
              "        text-align: right;\n",
              "    }\n",
              "</style>\n",
              "<table border=\"1\" class=\"dataframe\">\n",
              "  <thead>\n",
              "    <tr style=\"text-align: right;\">\n",
              "      <th></th>\n",
              "      <th>0</th>\n",
              "    </tr>\n",
              "  </thead>\n",
              "  <tbody>\n",
              "    <tr>\n",
              "      <th>2019</th>\n",
              "      <td>1</td>\n",
              "    </tr>\n",
              "    <tr>\n",
              "      <th>2020</th>\n",
              "      <td>2</td>\n",
              "    </tr>\n",
              "    <tr>\n",
              "      <th>2021</th>\n",
              "      <td>3</td>\n",
              "    </tr>\n",
              "    <tr>\n",
              "      <th>2022</th>\n",
              "      <td>4</td>\n",
              "    </tr>\n",
              "  </tbody>\n",
              "</table>\n",
              "</div><br><label><b>dtype:</b> int64</label>"
            ]
          },
          "metadata": {},
          "execution_count": 23
        }
      ]
    },
    {
      "cell_type": "code",
      "source": [
        "# how to fetch items from such series\n",
        "s[('cse',2022)]\n",
        "s['cse']"
      ],
      "metadata": {
        "id": "Wfxzr40nXO-O",
        "outputId": "6f6fa38a-60e9-4c4f-f77f-3611d71ad23b",
        "colab": {
          "base_uri": "https://localhost:8080/",
          "height": 210
        }
      },
      "execution_count": 24,
      "outputs": [
        {
          "output_type": "execute_result",
          "data": {
            "text/plain": [
              "2019    1\n",
              "2020    2\n",
              "2021    3\n",
              "2022    4\n",
              "dtype: int64"
            ],
            "text/html": [
              "<div>\n",
              "<style scoped>\n",
              "    .dataframe tbody tr th:only-of-type {\n",
              "        vertical-align: middle;\n",
              "    }\n",
              "\n",
              "    .dataframe tbody tr th {\n",
              "        vertical-align: top;\n",
              "    }\n",
              "\n",
              "    .dataframe thead th {\n",
              "        text-align: right;\n",
              "    }\n",
              "</style>\n",
              "<table border=\"1\" class=\"dataframe\">\n",
              "  <thead>\n",
              "    <tr style=\"text-align: right;\">\n",
              "      <th></th>\n",
              "      <th>0</th>\n",
              "    </tr>\n",
              "  </thead>\n",
              "  <tbody>\n",
              "    <tr>\n",
              "      <th>2019</th>\n",
              "      <td>1</td>\n",
              "    </tr>\n",
              "    <tr>\n",
              "      <th>2020</th>\n",
              "      <td>2</td>\n",
              "    </tr>\n",
              "    <tr>\n",
              "      <th>2021</th>\n",
              "      <td>3</td>\n",
              "    </tr>\n",
              "    <tr>\n",
              "      <th>2022</th>\n",
              "      <td>4</td>\n",
              "    </tr>\n",
              "  </tbody>\n",
              "</table>\n",
              "</div><br><label><b>dtype:</b> int64</label>"
            ]
          },
          "metadata": {},
          "execution_count": 24
        }
      ]
    },
    {
      "cell_type": "code",
      "source": [
        "# logical question to  ask"
      ],
      "metadata": {
        "id": "VAryb2cPXwYr"
      },
      "execution_count": 24,
      "outputs": []
    }
  ],
  "metadata": {
    "language_info": {
      "name": "python"
    },
    "colab": {
      "provenance": [],
      "include_colab_link": true
    },
    "kernelspec": {
      "name": "python3",
      "display_name": "Python 3"
    }
  },
  "nbformat": 4,
  "nbformat_minor": 0
}