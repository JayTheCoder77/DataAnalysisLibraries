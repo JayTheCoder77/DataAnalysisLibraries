{
 "cells": [
  {
   "cell_type": "code",
   "execution_count": 2,
   "id": "9f3568c1-d78e-4418-a1fb-b41ddd1a2268",
   "metadata": {},
   "outputs": [],
   "source": [
    "import pandas as pd\n",
    "import numpy as np"
   ]
  },
  {
   "cell_type": "markdown",
   "id": "0e7e5abd-68cb-4f56-9005-8a05a9190191",
   "metadata": {},
   "source": [
    "Series Math Methods"
   ]
  },
  {
   "cell_type": "code",
   "execution_count": 5,
   "id": "b079a264-d90d-43c2-a121-0410609f1df2",
   "metadata": {},
   "outputs": [
    {
     "data": {
      "text/plain": [
       "match_no    215\n",
       "runs        215\n",
       "dtype: int64"
      ]
     },
     "execution_count": 5,
     "metadata": {},
     "output_type": "execute_result"
    }
   ],
   "source": [
    "# count - doesnt count missing values \n",
    "# meanwhile size counts even them\n",
    "vk = pd.read_csv(\"kohli_ipl.csv\").squeeze()\n",
    "vk.count()"
   ]
  },
  {
   "cell_type": "code",
   "execution_count": 7,
   "id": "1ed1b7a4-13b9-45c1-b32f-92b2e2dd0b5c",
   "metadata": {},
   "outputs": [
    {
     "data": {
      "text/plain": [
       "np.int64(49510)"
      ]
     },
     "execution_count": 7,
     "metadata": {},
     "output_type": "execute_result"
    }
   ],
   "source": [
    "# sum -> product\n",
    "subs = pd.read_csv(\"subs.csv\").squeeze()\n",
    "subs.sum()"
   ]
  },
  {
   "cell_type": "code",
   "execution_count": 8,
   "id": "f2519fda-38ea-4fa0-9cb9-27641366aff9",
   "metadata": {},
   "outputs": [
    {
     "data": {
      "text/plain": [
       "np.int64(0)"
      ]
     },
     "execution_count": 8,
     "metadata": {},
     "output_type": "execute_result"
    }
   ],
   "source": [
    "subs.product()"
   ]
  },
  {
   "cell_type": "code",
   "execution_count": 9,
   "id": "760517bd-b157-45f1-a679-55846be3ce30",
   "metadata": {},
   "outputs": [
    {
     "data": {
      "text/plain": [
       "np.float64(135.64383561643837)"
      ]
     },
     "execution_count": 9,
     "metadata": {},
     "output_type": "execute_result"
    }
   ],
   "source": [
    "# mean -> median -> mode -> std deviation -> var\n",
    "subs.mean()"
   ]
  },
  {
   "cell_type": "code",
   "execution_count": 10,
   "id": "c54a47bb-0386-441d-a9ad-85685b799af4",
   "metadata": {},
   "outputs": [
    {
     "data": {
      "text/plain": [
       "match_no    108.0\n",
       "runs         24.0\n",
       "dtype: float64"
      ]
     },
     "execution_count": 10,
     "metadata": {},
     "output_type": "execute_result"
    }
   ],
   "source": [
    "vk.median()"
   ]
  },
  {
   "cell_type": "code",
   "execution_count": 11,
   "id": "de97979b-256d-4b05-bd60-fb9a87428cb3",
   "metadata": {},
   "outputs": [
    {
     "data": {
      "text/html": [
       "<div>\n",
       "<style scoped>\n",
       "    .dataframe tbody tr th:only-of-type {\n",
       "        vertical-align: middle;\n",
       "    }\n",
       "\n",
       "    .dataframe tbody tr th {\n",
       "        vertical-align: top;\n",
       "    }\n",
       "\n",
       "    .dataframe thead th {\n",
       "        text-align: right;\n",
       "    }\n",
       "</style>\n",
       "<table border=\"1\" class=\"dataframe\">\n",
       "  <thead>\n",
       "    <tr style=\"text-align: right;\">\n",
       "      <th></th>\n",
       "      <th>movie</th>\n",
       "      <th>lead</th>\n",
       "    </tr>\n",
       "  </thead>\n",
       "  <tbody>\n",
       "    <tr>\n",
       "      <th>0</th>\n",
       "      <td>Andaaz</td>\n",
       "      <td>Akshay Kumar</td>\n",
       "    </tr>\n",
       "    <tr>\n",
       "      <th>1</th>\n",
       "      <td>Gabbar Is Back</td>\n",
       "      <td>NaN</td>\n",
       "    </tr>\n",
       "    <tr>\n",
       "      <th>2</th>\n",
       "      <td>Tanu Weds Manu: Returns</td>\n",
       "      <td>NaN</td>\n",
       "    </tr>\n",
       "  </tbody>\n",
       "</table>\n",
       "</div>"
      ],
      "text/plain": [
       "                     movie          lead\n",
       "0                   Andaaz  Akshay Kumar\n",
       "1           Gabbar Is Back           NaN\n",
       "2  Tanu Weds Manu: Returns           NaN"
      ]
     },
     "execution_count": 11,
     "metadata": {},
     "output_type": "execute_result"
    }
   ],
   "source": [
    "movies = pd.read_csv(\"bollywood.csv\").squeeze()\n",
    "movies.mode()"
   ]
  },
  {
   "cell_type": "code",
   "execution_count": 13,
   "id": "85a4e012-6207-4acc-ba02-97d384980bdb",
   "metadata": {},
   "outputs": [
    {
     "data": {
      "text/plain": [
       "np.float64(62.6750230372527)"
      ]
     },
     "execution_count": 13,
     "metadata": {},
     "output_type": "execute_result"
    }
   ],
   "source": [
    "subs.std()"
   ]
  },
  {
   "cell_type": "code",
   "execution_count": 14,
   "id": "2ad56643-d171-4ba4-b73a-5d9dcd176362",
   "metadata": {},
   "outputs": [
    {
     "data": {
      "text/plain": [
       "match_no    3870.000000\n",
       "runs         688.002478\n",
       "dtype: float64"
      ]
     },
     "execution_count": 14,
     "metadata": {},
     "output_type": "execute_result"
    }
   ],
   "source": [
    "vk.var()"
   ]
  },
  {
   "cell_type": "code",
   "execution_count": 15,
   "id": "e8653646-73ca-4d86-b6b4-50055e528658",
   "metadata": {},
   "outputs": [
    {
     "data": {
      "text/plain": [
       "np.int64(33)"
      ]
     },
     "execution_count": 15,
     "metadata": {},
     "output_type": "execute_result"
    }
   ],
   "source": [
    "# min / max\n",
    "subs.min()"
   ]
  },
  {
   "cell_type": "code",
   "execution_count": 16,
   "id": "250ca481-df14-44af-9eed-76e2d9c332b2",
   "metadata": {},
   "outputs": [
    {
     "data": {
      "text/plain": [
       "np.int64(396)"
      ]
     },
     "execution_count": 16,
     "metadata": {},
     "output_type": "execute_result"
    }
   ],
   "source": [
    "subs.max()"
   ]
  },
  {
   "cell_type": "code",
   "execution_count": 17,
   "id": "112bba4b-5eb8-419a-85f6-38291c6cd0b6",
   "metadata": {},
   "outputs": [
    {
     "data": {
      "text/html": [
       "<div>\n",
       "<style scoped>\n",
       "    .dataframe tbody tr th:only-of-type {\n",
       "        vertical-align: middle;\n",
       "    }\n",
       "\n",
       "    .dataframe tbody tr th {\n",
       "        vertical-align: top;\n",
       "    }\n",
       "\n",
       "    .dataframe thead th {\n",
       "        text-align: right;\n",
       "    }\n",
       "</style>\n",
       "<table border=\"1\" class=\"dataframe\">\n",
       "  <thead>\n",
       "    <tr style=\"text-align: right;\">\n",
       "      <th></th>\n",
       "      <th>match_no</th>\n",
       "      <th>runs</th>\n",
       "    </tr>\n",
       "  </thead>\n",
       "  <tbody>\n",
       "    <tr>\n",
       "      <th>count</th>\n",
       "      <td>215.000000</td>\n",
       "      <td>215.000000</td>\n",
       "    </tr>\n",
       "    <tr>\n",
       "      <th>mean</th>\n",
       "      <td>108.000000</td>\n",
       "      <td>30.855814</td>\n",
       "    </tr>\n",
       "    <tr>\n",
       "      <th>std</th>\n",
       "      <td>62.209324</td>\n",
       "      <td>26.229801</td>\n",
       "    </tr>\n",
       "    <tr>\n",
       "      <th>min</th>\n",
       "      <td>1.000000</td>\n",
       "      <td>0.000000</td>\n",
       "    </tr>\n",
       "    <tr>\n",
       "      <th>25%</th>\n",
       "      <td>54.500000</td>\n",
       "      <td>9.000000</td>\n",
       "    </tr>\n",
       "    <tr>\n",
       "      <th>50%</th>\n",
       "      <td>108.000000</td>\n",
       "      <td>24.000000</td>\n",
       "    </tr>\n",
       "    <tr>\n",
       "      <th>75%</th>\n",
       "      <td>161.500000</td>\n",
       "      <td>48.000000</td>\n",
       "    </tr>\n",
       "    <tr>\n",
       "      <th>max</th>\n",
       "      <td>215.000000</td>\n",
       "      <td>113.000000</td>\n",
       "    </tr>\n",
       "  </tbody>\n",
       "</table>\n",
       "</div>"
      ],
      "text/plain": [
       "         match_no        runs\n",
       "count  215.000000  215.000000\n",
       "mean   108.000000   30.855814\n",
       "std     62.209324   26.229801\n",
       "min      1.000000    0.000000\n",
       "25%     54.500000    9.000000\n",
       "50%    108.000000   24.000000\n",
       "75%    161.500000   48.000000\n",
       "max    215.000000  113.000000"
      ]
     },
     "execution_count": 17,
     "metadata": {},
     "output_type": "execute_result"
    }
   ],
   "source": [
    "# describe - provides a summary\n",
    "vk.describe()"
   ]
  },
  {
   "cell_type": "code",
   "execution_count": null,
   "id": "96236808-43e3-42eb-a94e-6357295a0358",
   "metadata": {},
   "outputs": [],
   "source": []
  }
 ],
 "metadata": {
  "kernelspec": {
   "display_name": "Python 3 (ipykernel)",
   "language": "python",
   "name": "python3"
  },
  "language_info": {
   "codemirror_mode": {
    "name": "ipython",
    "version": 3
   },
   "file_extension": ".py",
   "mimetype": "text/x-python",
   "name": "python",
   "nbconvert_exporter": "python",
   "pygments_lexer": "ipython3",
   "version": "3.13.1"
  }
 },
 "nbformat": 4,
 "nbformat_minor": 5
}
