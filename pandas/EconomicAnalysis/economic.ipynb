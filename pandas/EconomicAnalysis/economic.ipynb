{
 "cells": [
  {
   "cell_type": "code",
   "execution_count": 10,
   "id": "1e30287b-72fe-497a-97c4-8ce75d20abe3",
   "metadata": {},
   "outputs": [],
   "source": [
    "import pandas as pd\n",
    "import numpy as np\n",
    "import matplotlib.pyplot as plt\n",
    "import plotly.express as px\n",
    "\n",
    "plt.style.use('fivethirtyeight')\n",
    "pd.set_option('display.max_columns', 500)\n",
    "color_pal = plt.rcParams[\"axes.prop_cycle\"].by_key()[\"color\"]\n",
    "from fredapi import Fred\n",
    "\n",
    "fred_key = 'adb97e0b6b85623dc502217d03dbd229'"
   ]
  },
  {
   "cell_type": "markdown",
   "id": "d6bdeb6e-a52f-43dd-8fbe-7ec4d895a611",
   "metadata": {},
   "source": [
    "Create fred object"
   ]
  },
  {
   "cell_type": "code",
   "execution_count": 20,
   "id": "5cad363e-a547-4557-bb3c-c538f1ab9649",
   "metadata": {},
   "outputs": [],
   "source": [
    "fred = Fred(api_key=fred_key)"
   ]
  },
  {
   "cell_type": "markdown",
   "id": "db01c92b-f268-4495-b582-cfac4f2939db",
   "metadata": {},
   "source": [
    "search for economic data"
   ]
  },
  {
   "cell_type": "code",
   "execution_count": null,
   "id": "16e67d30-15c1-4107-93b9-6404ec79373f",
   "metadata": {},
   "outputs": [],
   "source": []
  }
 ],
 "metadata": {
  "kernelspec": {
   "display_name": "Python 3 (ipykernel)",
   "language": "python",
   "name": "python3"
  },
  "language_info": {
   "codemirror_mode": {
    "name": "ipython",
    "version": 3
   },
   "file_extension": ".py",
   "mimetype": "text/x-python",
   "name": "python",
   "nbconvert_exporter": "python",
   "pygments_lexer": "ipython3",
   "version": "3.13.2"
  }
 },
 "nbformat": 4,
 "nbformat_minor": 5
}
